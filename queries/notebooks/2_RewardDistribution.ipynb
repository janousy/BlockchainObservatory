{
 "cells": [
  {
   "cell_type": "markdown",
   "id": "a0e3e76d-41ce-4b37-bbfe-3d42f8a1eec2",
   "metadata": {},
   "source": [
    "# Set Up"
   ]
  },
  {
   "cell_type": "markdown",
   "id": "7c5e802b-ca27-460c-861e-b38cb6a2e771",
   "metadata": {},
   "source": [
    "importstatements, configurations, initializing sparksession,"
   ]
  },
  {
   "cell_type": "code",
   "execution_count": 5,
   "id": "0e3bed6e-30ae-43ed-9721-1cc001489ace",
   "metadata": {},
   "outputs": [],
   "source": [
    "#importstatements\n",
    "import matplotlib.pyplot as plt\n",
    "import numpy as np\n",
    "\n",
    "import pyspark\n",
    "from pyspark.sql import SparkSession\n",
    "from pyspark.sql import Row\n",
    "\n",
    "\n",
    "from pyspark.sql.functions import *\n",
    "import pyspark.sql.functions as F     \n",
    "from pyspark.sql import types \n",
    "from pyspark.sql.types import StructField, StringType, LongType, DoubleType, BooleanType, StructType, IntegerType"
   ]
  },
  {
   "cell_type": "code",
   "execution_count": 6,
   "id": "62ea7998-55cf-4df6-a020-02b15c0d4028",
   "metadata": {},
   "outputs": [],
   "source": [
    "#config for our sparksession\n",
    "config = pyspark.SparkConf().setAll([\n",
    "    ('spark.executor.memory', '12g'), \n",
    "    ('spark.executor.cores', '4'), \n",
    "    ('spark.cores.max', '8'),\n",
    "    ('spark.driver.memory','2g'),\n",
    "    ('spark.executor.instances', '2'),\n",
    "    ('spark.worker.cleanup.enabled', 'true'),\n",
    "    ('spark.worker.cleanup.interval', '60'),\n",
    "    ('spark.worker.cleanup.appDataTtl', '60'),\n",
    "    ('spark.jars.packages', 'org.mongodb.spark:mongo-spark-connector:10.0.2')\n",
    "])"
   ]
  },
  {
   "cell_type": "code",
   "execution_count": 7,
   "id": "d8c4764b-1aed-4b0f-84a2-99415c8b2ef6",
   "metadata": {},
   "outputs": [
    {
     "name": "stdout",
     "output_type": "stream",
     "text": [
      "20409720 [Thread-4] WARN  org.apache.spark.util.Utils  - Service 'SparkUI' could not bind on port 4040. Attempting port 4041.\n",
      "20410346 [Thread-4] WARN  org.apache.spark.ExecutorAllocationManager  - Dynamic allocation without a shuffle service is an experimental feature.\n"
     ]
    }
   ],
   "source": [
    "#create sparksession\n",
    "#when copying change appName\n",
    "spark = SparkSession \\\n",
    "    .builder \\\n",
    "    .config(conf=config) \\\n",
    "    .appName(\"2_RewardDistribution\") \\\n",
    "    .master(\"spark://172.23.149.212:7077\") \\\n",
    "    .getOrCreate()"
   ]
  },
  {
   "cell_type": "code",
   "execution_count": 4,
   "id": "b5959b61-4836-43fe-afa4-6521e738f6fd",
   "metadata": {},
   "outputs": [],
   "source": [
    "# account table to determine which accounts have received rewards (are miners)\n",
    "dfStaker = spark.read.format(\"mongodb\") \\\n",
    "    .option('spark.mongodb.connection.uri', 'mongodb://172.23.149.212:27017') \\\n",
    "    .option('spark.mongodb.database', 'algorand') \\\n",
    "    .option('spark.mongodb.collection', 'account') \\\n",
    "    .option('park.mongodb.read.readPreference.name', 'primaryPreferred') \\\n",
    "    .option('spark.mongodb.change.stream.publish.full.document.only','true') \\\n",
    "    .option(\"forceDeleteTempCheckpointLocation\", \"true\") \\\n",
    "    .load()\n"
   ]
  },
  {
   "cell_type": "code",
   "execution_count": 5,
   "id": "7acfff21-2312-4414-9942-ba520d5caa5c",
   "metadata": {},
   "outputs": [],
   "source": [
    "#create a schema so data quality of dfTx is ensured\n",
    "schema = StructType([ \\\n",
    "    StructField(\"_id\", StringType(), True), \\\n",
    "    StructField(\"asset\", LongType(), True), \\\n",
    "    StructField(\"extra\", StringType(), True), \\\n",
    "    StructField(\"intra\", LongType(), True), \\\n",
    "    StructField(\"round\", LongType(), True), \\\n",
    "    StructField(\"rr\", LongType(), True), \\\n",
    "    StructField(\"sig\", StringType(), True), \\\n",
    "    StructField(\"txid\", StringType(), True), \\\n",
    "    StructField(\"txn_aamt\", LongType(), True), \\\n",
    "    StructField(\"txn_aclose\", StringType(), True), \\\n",
    "    StructField(\"txn_afrz\", BooleanType(), True), \\\n",
    "    StructField(\"txn_amt\", LongType(), True), \\\n",
    "    StructField(\"txn_apaa\", StringType(), True), \\\n",
    "    StructField(\"txn_apan\", LongType(), True), \\\n",
    "    StructField(\"txn_apap\", StringType(), True), \\\n",
    "    StructField(\"txn_apar\", StringType(), True), \\\n",
    "    StructField(\"txn_apas\", StringType(), True), \\\n",
    "    StructField(\"txn_apat\", StringType(), True), \\\n",
    "    StructField(\"txn_apep\", StringType(), True), \\\n",
    "    StructField(\"txn_apfa\", StringType(), True), \\\n",
    "    StructField(\"txn_apgs\", StringType(), True), \\\n",
    "    StructField(\"txn_apid\", LongType(), True), \\\n",
    "    StructField(\"txn_apls\", StringType(), True), \\\n",
    "    StructField(\"txn_apsu\", StringType(), True), \\\n",
    "    StructField(\"txn_arcv\", StringType(), True), \\\n",
    "    StructField(\"txn_asnd\", StringType(), True), \\\n",
    "    StructField(\"txn_caid\", LongType(), True), \\\n",
    "    StructField(\"txn_close\", StringType(), True), \\\n",
    "    StructField(\"txn_fadd\", StringType(), True), \\\n",
    "    StructField(\"txn_faid\", LongType(), True), \\\n",
    "    StructField(\"txn_fee\", LongType(), True), \\\n",
    "    StructField(\"txn_fv\", LongType(), True), \\\n",
    "    StructField(\"txn_gen\", StringType(), True), \\\n",
    "    StructField(\"txn_gh\", StringType(), True), \\\n",
    "    StructField(\"txn_grp\", StringType(), True), \\\n",
    "    StructField(\"txn_lsig\", StringType(), True), \\\n",
    "    StructField(\"txn_lv\", LongType(), True), \\\n",
    "    StructField(\"txn_lx\", StringType(), True), \\\n",
    "    StructField(\"txn_msig\", StringType(), True), \\\n",
    "    StructField(\"txn_nonpart\", BooleanType(), True), \\\n",
    "    StructField(\"txn_note\", StringType(), True), \\\n",
    "    StructField(\"txn_rcv\", StringType(), True), \\\n",
    "    StructField(\"txn_rekey\", StringType(), True), \\\n",
    "    StructField(\"txn_selkey\", StringType(), True), \\\n",
    "    StructField(\"txn_sig\", StringType(), True), \\\n",
    "    StructField(\"txn_snd\", StringType(), True), \\\n",
    "    StructField(\"txn_type\", StringType(), True), \\\n",
    "    StructField(\"txn_votefst\", LongType(), True), \\\n",
    "    StructField(\"txn_votekd\", LongType(), True), \\\n",
    "    StructField(\"txn_votekey\", StringType(), True), \\\n",
    "    StructField(\"txn_votelst\", LongType(), True), \\\n",
    "    StructField(\"txn_xaid\", LongType(), True), \\\n",
    "    StructField(\"typeenum\", IntegerType(), True) \\\n",
    "])"
   ]
  },
  {
   "cell_type": "code",
   "execution_count": 6,
   "id": "18306f21-6d7d-453c-9d44-ac705c9fbbbf",
   "metadata": {},
   "outputs": [],
   "source": [
    "# account table to determine which accounts have received rewards\n",
    "dfTx = spark.read.format(\"mongodb\") \\\n",
    "    .option('spark.mongodb.connection.uri', 'mongodb://172.23.149.212:27017') \\\n",
    "    .option('spark.mongodb.database', 'algorand') \\\n",
    "    .option('spark.mongodb.collection', 'txn') \\\n",
    "    .option('park.mongodb.read.readPreference.name', 'primaryPreferred') \\\n",
    "    .option('spark.mongodb.change.stream.publish.full.document.only','true') \\\n",
    "    .option(\"forceDeleteTempCheckpointLocation\", \"true\") \\\n",
    "    .schema(schema) \\\n",
    "    .load()\n"
   ]
  },
  {
   "cell_type": "markdown",
   "id": "cee5658e-3725-42de-99ff-0f3b17cb3ef3",
   "metadata": {},
   "source": [
    "# Data Preparation"
   ]
  },
  {
   "cell_type": "markdown",
   "id": "c7c1c95d-969e-4fa7-be0c-1d1ac0148515",
   "metadata": {},
   "source": [
    "### Preparation of dfStaker"
   ]
  },
  {
   "cell_type": "markdown",
   "id": "dfbfed03-0c79-48ad-9c0f-28549a4b6f85",
   "metadata": {},
   "source": [
    "Prepare Staker Table for first Queries"
   ]
  },
  {
   "cell_type": "code",
   "execution_count": 7,
   "id": "eb37b828-b065-45a9-ad62-395bef13113d",
   "metadata": {},
   "outputs": [
    {
     "name": "stderr",
     "output_type": "stream",
     "text": [
      "                                                                                \r"
     ]
    }
   ],
   "source": [
    "# drop all unneccessary columns\n",
    "dfStaker = dfStaker.select(\"addr\", \"rewards_total\", \"created_at\")\n",
    "#Staker are all accounts which got at least once rewards\n",
    "dfStaker = dfStaker.where(dfStaker.rewards_total > 0)\n",
    "\n",
    "# calculate hom many algos paid out as rewards\n",
    "\n",
    "tRew = dfStaker.agg(F.sum(\"rewards_total\")).collect()[0][0]\n",
    "\n",
    "#add column and calculate the proportion of the account to all algos, proportion is in %\n",
    "dfStaker = dfStaker.withColumn(\"proportion\", dfStaker.rewards_total/tRew*100)\n",
    "\n"
   ]
  },
  {
   "cell_type": "markdown",
   "id": "a0895fd0-d889-4355-a9f9-9d7046c52915",
   "metadata": {},
   "source": [
    "### Preparation of dfTx"
   ]
  },
  {
   "cell_type": "code",
   "execution_count": 8,
   "id": "24d7d0a1-3946-47d6-8f6d-670a6c9bace2",
   "metadata": {},
   "outputs": [],
   "source": [
    "# select necesseray field in dfTx. The fields help to determine when a staker went online and offline\n",
    "dfTx = dfTx.select(\"round\", \"txn_snd\", \"txn_type\", \"txn_votefst\")"
   ]
  },
  {
   "cell_type": "markdown",
   "id": "7650fcd7-524f-4551-aab3-50cbcf9e9996",
   "metadata": {},
   "source": [
    "create a possibility to distinguish between online and offline applications of stakers"
   ]
  },
  {
   "cell_type": "code",
   "execution_count": 9,
   "id": "ee3e5d70-72c9-4aad-9375-8d300f8dd857",
   "metadata": {},
   "outputs": [],
   "source": [
    "#keyreg is either a account which log in to participate in the network or log off\n",
    "dfTx = dfTx.filter(dfTx.txn_type == \"keyreg\")\n",
    "#distinguish between online and offline transactions, votefst is null when it was an offline application and otherwise the staker has applied to get online\n",
    "#https://developer.algorand.org/docs/get-details/transactions/#key-registration-transaction\n",
    "dfTx = dfTx.withColumn(\"status\", F.when(F.col('txn_votefst').isNull(), \"offline\").otherwise(\"online\"))\n"
   ]
  },
  {
   "cell_type": "code",
   "execution_count": 10,
   "id": "9b9554e8-0f7b-4060-9c3f-12ea0b044d2c",
   "metadata": {},
   "outputs": [],
   "source": [
    "#Round has to be adjusted, the displayed round, is the round of application to participate / unparticipate in the network. The permission to participate /unparticipate is granted 320 rounds later.\n",
    "#this is for registering online and offline --> confirmed round means either that the miner has then be accepted to go online or offline\n",
    "#implemented that termination round is handled the same as application round\n",
    "#https://developer.algorand.org/docs/run-a-account/participate/online/ \n",
    "#https://developer.algorand.org/docs/run-a-account/participate/offline/\n",
    "\n",
    "#when a staker starts to participate in the network\n",
    "#set Rounds to long, so a join later is possible\n",
    "dfTx = dfTx.withColumn(\"participationRound\", dfTx[\"round\"].cast(\"long\")+320)\n",
    "#when a staker has applied to participate / Unparticipate in the network\n",
    "dfTx = dfTx.withColumn(\"applicationRound\", dfTx[\"round\"].cast(\"long\"))\n",
    "#since Round is renamed to applicationRound, the normal Round can be dropped\n",
    "dfTx = dfTx.drop(\"round\")"
   ]
  },
  {
   "cell_type": "markdown",
   "id": "07834192-7081-44a9-b750-71ca83ce1cef",
   "metadata": {},
   "source": [
    "# First Queries"
   ]
  },
  {
   "cell_type": "markdown",
   "id": "f5acac1e-325e-4d9b-ad6f-9c952f323f4c",
   "metadata": {},
   "source": [
    "### Calculate the Amount of Stakers"
   ]
  },
  {
   "cell_type": "markdown",
   "id": "ed33e693-a60f-4f1e-8042-6423180137ab",
   "metadata": {},
   "source": [
    "save the result on mongoDB on a gold table"
   ]
  },
  {
   "cell_type": "code",
   "execution_count": 11,
   "id": "05a5f84f-ef32-4ce3-acad-af648a4ab56b",
   "metadata": {},
   "outputs": [
    {
     "name": "stderr",
     "output_type": "stream",
     "text": [
      "22/07/08 09:51:44 WARN CaseInsensitiveStringMap: Converting duplicated key forcedeletetempcheckpointlocation into CaseInsensitiveStringMap.\n",
      "                                                                                \r"
     ]
    }
   ],
   "source": [
    "#write number of stakers in gold table\n",
    "#how many stakers ever received a reward\n",
    "#append to get a history over the development\n",
    "addresses = dfStaker.count()\n",
    "newestRoundStaker = dfStaker.agg(F.max(\"created_at\")).collect()[0][0]\n",
    "\n",
    "result = spark.createDataFrame(\n",
    "    [\n",
    "        (addresses, newestRoundStaker)  # create your data here, be consistent in the types.\n",
    "        \n",
    "    ],\n",
    "    [\"NrOfAddresses\", \"CreationRound\"]  # add your column names here\n",
    ")\n",
    "\n",
    "result.write.format(\"mongodb\") \\\n",
    "\t.option('spark.mongodb.connection.uri', 'mongodb://172.23.149.212:27017') \\\n",
    "  \t.mode(\"append\") \\\n",
    "    .option('spark.mongodb.database', 'algorand_gold') \\\n",
    "  \t.option('spark.mongodb.collection', 'NumberOfStakers_2') \\\n",
    "  \t.option(\"forceDeleteTempCheckpointLocation\", \"true\") \\\n",
    "  \t.save()"
   ]
  },
  {
   "cell_type": "code",
   "execution_count": null,
   "id": "d9a466ea-a78c-424f-b4e2-550450c627e7",
   "metadata": {
    "tags": []
   },
   "outputs": [
    {
     "name": "stderr",
     "output_type": "stream",
     "text": [
      "                                                                                \r"
     ]
    }
   ],
   "source": []
  },
  {
   "cell_type": "markdown",
   "id": "ecbf212c-af74-42cd-aeed-512dfd0944c9",
   "metadata": {},
   "source": [
    "# Additional Data Preparation"
   ]
  },
  {
   "cell_type": "markdown",
   "id": "38ed1af1-0bf7-494f-a01f-934bdf13b111",
   "metadata": {},
   "source": [
    "Get dfBlock to add the realtime to the stakers applications"
   ]
  },
  {
   "cell_type": "code",
   "execution_count": null,
   "id": "8b9766f7-aee8-4b01-9c40-ec09293cbf53",
   "metadata": {},
   "outputs": [],
   "source": [
    "#get BlockHeader to know the Realtime of a Block\n",
    "dfBlock = spark.read.format(\"mongodb\") \\\n",
    "    .option('spark.mongodb.connection.uri', 'mongodb://172.23.149.212:27017') \\\n",
    "    .option('spark.mongodb.database', 'algorand') \\\n",
    "    .option('spark.mongodb.collection', 'block_header') \\\n",
    "    .option('park.mongodb.read.readPreference.name', 'primaryPreferred') \\\n",
    "    .option('spark.mongodb.change.stream.publish.full.document.only','true') \\\n",
    "    .option(\"forceDeleteTempCheckpointLocation\", \"true\") \\\n",
    "    .load()"
   ]
  },
  {
   "cell_type": "code",
   "execution_count": null,
   "id": "9767cda4-228e-4499-8f2e-f9eab889823f",
   "metadata": {},
   "outputs": [],
   "source": [
    "#select necessary schema\n",
    "dfBlock = dfBlock.select(col(\"round\").alias(\"blockround\"), col(\"realtime\"))"
   ]
  },
  {
   "cell_type": "markdown",
   "id": "33699322-598c-4cfe-b1ec-4f6f47f944b5",
   "metadata": {},
   "source": [
    "Join to get the realtime"
   ]
  },
  {
   "cell_type": "code",
   "execution_count": null,
   "id": "13fb76c7-7659-464e-ac62-d74da635ad0f",
   "metadata": {},
   "outputs": [],
   "source": [
    "#add time to dfTx, where the information about online and offline is stored\n",
    "dfTx = dfBlock.join(dfTx, dfBlock.blockround == dfTx.participationRound, \"inner\")\n",
    "#in pyspark an inner join sometimes does not remove the column properly, therefore to be sure one of the columns is dropped\n",
    "#additionally txn_type is always keyreg therefore not used anymore, and since we have a status txn_votefst can be removed as well\n",
    "dfTx = dfTx.drop(\"blockround\", \"txn_type\", \"txn_votefst\")\n"
   ]
  },
  {
   "cell_type": "markdown",
   "id": "e22ada84-d16c-4198-bc1c-24f315639727",
   "metadata": {},
   "source": [
    "Split between online and offline applications of the stakers"
   ]
  },
  {
   "cell_type": "code",
   "execution_count": null,
   "id": "cadb8a67-90ba-4fad-a6d7-cceb2e30fa43",
   "metadata": {},
   "outputs": [],
   "source": [
    "#create a dataframe with all online transactions and convert its time to unix time\n",
    "dfOnline = dfTx.filter(dfTx.status == \"online\")\n",
    "dfOnline = dfOnline.withColumnRenamed(\"realtime\",\"starttime\")\n",
    "dfOnline = dfOnline.withColumn(\"starttimeInSec\", dfOnline[\"starttime\"])\n",
    "#converting in unix time and reordering\n",
    "dfOnline = dfOnline.select(\"txn_snd\", \"applicationRound\",\"participationRound\", from_unixtime(col(\"starttime\")).alias(\"starttime\"), \"starttimeInSec\")"
   ]
  },
  {
   "cell_type": "markdown",
   "id": "984145d0-df13-430f-b0bc-2fb12523c892",
   "metadata": {},
   "source": [
    "save the total applications to become a miner"
   ]
  },
  {
   "cell_type": "code",
   "execution_count": null,
   "id": "9b0c9d3b-9e1b-4a99-832d-03cdb4078d1d",
   "metadata": {},
   "outputs": [],
   "source": [
    "#counts how many transactions were sent from possible stakers to go online\n",
    "candidacies = dfOnline.count()\n",
    "newestRoundApp = dfOnline.agg(F.max(\"applicationRound\")).collect()[0][0]\n",
    "\n",
    "result = spark.createDataFrame(\n",
    "    [\n",
    "        (candidacies, newestRoundApp)  # create your data here, be consistent in the types.\n",
    "        \n",
    "    ],\n",
    "    [\"TotalCandidates\", \"CreationRound\"]  # add your column names here\n",
    ")\n",
    "\n",
    "result.write.format(\"mongodb\") \\\n",
    "\t.option('spark.mongodb.connection.uri', 'mongodb://172.23.149.212:27017') \\\n",
    "  \t.mode(\"append\") \\\n",
    "    .option('spark.mongodb.database', 'algorand_gold') \\\n",
    "  \t.option('spark.mongodb.collection', 'NumberOfStakerCandidates_2') \\\n",
    "  \t.option(\"forceDeleteTempCheckpointLocation\", \"true\") \\\n",
    "  \t.save()"
   ]
  },
  {
   "cell_type": "code",
   "execution_count": null,
   "id": "33d8de86-b15b-4762-81a3-f27e47406a79",
   "metadata": {},
   "outputs": [],
   "source": [
    "#write number of stakers in gold table\n",
    "#append to get a history over the development\n",
    "transactions = dfTx.count()\n",
    "newestRoundTx = dfTx.agg(F.max(\"applicationRound\")).collect()[0][0]\n",
    "\n",
    "result = spark.createDataFrame(\n",
    "    [\n",
    "        (transactions, newestRoundTx)  # create your data here, be consistent in the types.\n",
    "        \n",
    "    ],\n",
    "    [\"NrOfTransactions\", \"CreationRound\"]  # add your column names here\n",
    ")\n",
    "\n",
    "result.write.format(\"mongodb\") \\\n",
    "\t.option('spark.mongodb.connection.uri', 'mongodb://172.23.149.212:27017') \\\n",
    "  \t.mode(\"append\") \\\n",
    "    .option('spark.mongodb.database', 'algorand_gold') \\\n",
    "  \t.option('spark.mongodb.collection', 'NumberOfStakerRelatedTransactions_2') \\\n",
    "  \t.option(\"forceDeleteTempCheckpointLocation\", \"true\") \\\n",
    "  \t.save()"
   ]
  },
  {
   "cell_type": "markdown",
   "id": "8ac51433-54b7-4b9e-8a9b-e8a3332c032c",
   "metadata": {},
   "source": [
    "# Graphs"
   ]
  },
  {
   "cell_type": "markdown",
   "id": "1722acbd-7969-497c-adbc-934965fd8dc1",
   "metadata": {},
   "source": [
    "### Graph Preparation: Distribution of Start Timer of Stakers per Blockround"
   ]
  },
  {
   "cell_type": "markdown",
   "id": "934d0e0e-dcc1-4e7b-bb34-14e4ab171a40",
   "metadata": {},
   "source": [
    "Goal is to create a histogram when stakers started to participate in the network. "
   ]
  },
  {
   "cell_type": "code",
   "execution_count": null,
   "id": "449f72fd-a771-4ed0-83f8-fa5fff677261",
   "metadata": {},
   "outputs": [],
   "source": [
    "#graph, histogram x-axis round when starting participating\n",
    "graph = dfOnline.select(\"participationRound\")\n",
    "\n",
    "#preparation for graph\n",
    "graph = graph.collect()\n",
    "\n",
    "#convert row[\"data\"] to only data\n",
    "rounds = [row[0] for (row) in graph]\n"
   ]
  },
  {
   "cell_type": "code",
   "execution_count": null,
   "id": "933bfeef-2dc0-4d32-99d4-85686b275212",
   "metadata": {},
   "outputs": [],
   "source": [
    "#min\n",
    "minParticipationRound = dfOnline.agg(F.min(\"applicationRound\")).collect()[0][0]\n",
    "\n",
    "maxParticipationRound = newestRoundApp"
   ]
  },
  {
   "cell_type": "markdown",
   "id": "e6d84186-4b47-4af7-a9ab-9827951e93e1",
   "metadata": {},
   "source": [
    "### Graph: Distribution of Start Time of Stakers per Blockround"
   ]
  },
  {
   "cell_type": "code",
   "execution_count": null,
   "id": "627078a9-f922-4db6-ad39-bcd076133abf",
   "metadata": {},
   "outputs": [],
   "source": [
    "# histogram x-axis round when starting participating\n",
    "# how many bars in the histogram should be plotted\n",
    "\n",
    "bin_size = 50\n",
    "# distribute bins log(equally) over the whole data\n",
    "\n",
    "plt.figure()\n",
    "plt.hist(rounds, bins=bin_size)\n",
    "plt.rcParams[\"figure.autolayout\"] = True\n",
    "plt.yscale('log')\n",
    "plt.xlabel(\"Blockround\")\n",
    "plt.ylabel(\"Number of accounts\")\n",
    "plt.title(\"Distribution of accounts Participating Starting Blockround\", loc='center', pad=None)\n",
    "plt.savefig('/home/ubuntu/apps/figures/2_stakerDistribution/accounts_Start_Distribution_Blockround.jpg', dpi=200)\n",
    "plt.show()\n",
    "plt.close()"
   ]
  },
  {
   "cell_type": "markdown",
   "id": "88682b27-81c5-423c-ac58-db5adfba2cf5",
   "metadata": {},
   "source": [
    "### Graph Preparation: Distribution of End Time of Stakers"
   ]
  },
  {
   "cell_type": "code",
   "execution_count": null,
   "id": "09af0567-6986-4057-acb0-3f1ee179f350",
   "metadata": {},
   "outputs": [],
   "source": [
    "#create a dataframe with all online transactions and convert its time to unix time\n",
    "dfOffline = dfTx.filter(dfTx.status == \"offline\")\n",
    "dfOffline = dfOffline.withColumnRenamed(\"realtime\",\"endtime\")\n",
    "dfOffline = dfOffline.withColumn(\"endtimeInSec\", dfOffline[\"endtime\"])\n",
    "#converting in unix time and reordering\n",
    "dfOffline = dfOffline.select(\"txn_snd\", \"applicationRound\",\"participationRound\", from_unixtime(col(\"endtime\")).alias(\"endtime\"), \"endtimeInSec\")"
   ]
  },
  {
   "cell_type": "markdown",
   "id": "b9d23866-5a6f-4a53-8cc9-762c593b182d",
   "metadata": {},
   "source": [
    "### Graph Preparation: Distribution of End Time of Stakers per Blockround"
   ]
  },
  {
   "cell_type": "code",
   "execution_count": null,
   "id": "52431039-6f0c-451e-91f6-299f3d40a16c",
   "metadata": {},
   "outputs": [],
   "source": [
    "#graph, histogram x-axis round when starting participating -- when going offline\n",
    "graph = dfOffline.select(\"participationRound\")\n",
    "\n",
    "#preparation for graph\n",
    "graph = graph.collect()\n",
    "\n",
    "#convert row[\"data\"] to only data\n",
    "roundsOffline = [row[0] for (row) in graph]"
   ]
  },
  {
   "cell_type": "code",
   "execution_count": null,
   "id": "5a1a6ba5-b88e-4f40-8ba9-8f80c6fc6d77",
   "metadata": {},
   "outputs": [],
   "source": [
    "#min\n",
    "minOffParticipationRound = dfOffline.agg(F.min(\"participationRound\")).collect()[0][0]\n",
    "\n",
    "maxOffParticipationRound = dfOffline.agg(F.max(\"participationRound\")).collect()[0][0]"
   ]
  },
  {
   "cell_type": "markdown",
   "id": "19aa6269-260c-4cb6-83a4-56920cda002e",
   "metadata": {},
   "source": [
    "### Graph: Distribution of End Time of Stakers per Blockround"
   ]
  },
  {
   "cell_type": "code",
   "execution_count": null,
   "id": "921deb67-920f-458f-a84b-9833f1471fb9",
   "metadata": {},
   "outputs": [],
   "source": [
    "# histogram x-axis round when starting participating\n",
    "# how many bars in the histogram should be plotted\n",
    "\n",
    "bin_size = 50\n",
    "\n",
    "plt.figure()\n",
    "plt.hist(roundsOffline, bins=bin_size)\n",
    "plt.rcParams[\"figure.autolayout\"] = True\n",
    "plt.yscale('log')\n",
    "plt.xlabel(\"Blockround\")\n",
    "plt.ylabel(\"Number of accounts\")\n",
    "plt.title(\"Distribution of accounts Participating Ending Blockround\", loc='center', pad=None)\n",
    "plt.savefig('/home/ubuntu/apps/figures/2_stakerDistribution/accounts_End_Distribution_Blockround.jpg', dpi=200)\n",
    "plt.show()\n",
    "plt.close()"
   ]
  },
  {
   "cell_type": "code",
   "execution_count": null,
   "id": "5da3b7ee-a502-42cd-8166-605171d81a05",
   "metadata": {},
   "outputs": [],
   "source": [
    "# histogram x-axis round when starting vs ending to participate in the consensus\n",
    "# the graph is saved on the vm\n",
    "bin_size = 50\n",
    "\n",
    "plt.figure()\n",
    "plt.hist(rounds, bins=bin_size, alpha=0.5, label=\"Starting Rounds\")\n",
    "plt.hist(roundsOffline, bins=bin_size, alpha=0.5, label=\"Ending Rounds\")\n",
    "plt.rcParams[\"figure.autolayout\"] = True\n",
    "plt.yscale('log')\n",
    "plt.xlabel(\"Blockround\")\n",
    "plt.ylabel(\"Number of accounts\")\n",
    "plt.legend(loc=\"upper right\")\n",
    "plt.title(\"accounts Starting vs. Ending in the Consensus\", loc='center', pad=None)\n",
    "plt.savefig('/home/ubuntu/apps/figures/2_stakerDistribution/Starting_vs_Ending_Consensus.jpg', dpi=200)\n",
    "plt.show()\n",
    "plt.close()"
   ]
  },
  {
   "cell_type": "markdown",
   "id": "b0000441-c540-4e62-9c1a-d4e1224c3a92",
   "metadata": {},
   "source": [
    "### Graph Preparation: Distribution of Rewards Total of all Stakers"
   ]
  },
  {
   "cell_type": "code",
   "execution_count": null,
   "id": "12cdf84f-bf56-40c9-a759-3070d68152eb",
   "metadata": {},
   "outputs": [],
   "source": [
    "silverdf = dfStaker.select(\"addr\", \"rewards_total\")\n",
    "\n",
    "#save staker and their rewards in silver table\n",
    "silverdf.write.format(\"mongodb\") \\\n",
    "\t.option('spark.mongodb.connection.uri', 'mongodb://172.23.149.212:27017') \\\n",
    "  \t.mode(\"overwrite\") \\\n",
    "    .option('spark.mongodb.database', 'algorand_silver') \\\n",
    "  \t.option('spark.mongodb.collection', 'distribution_of_stakers_rewards_2') \\\n",
    "  \t.option(\"forceDeleteTempCheckpointLocation\", \"true\") \\\n",
    "  \t.save()"
   ]
  },
  {
   "cell_type": "code",
   "execution_count": null,
   "id": "74119bbb-4d72-46b1-89a8-a2133076482c",
   "metadata": {},
   "outputs": [],
   "source": [
    "\n",
    "#graph, histogram rewardsdistribution\n",
    "graph = dfStaker.select(\"rewards_total\")\n",
    "\n",
    "#preparation for graph\n",
    "graph = graph.collect()\n",
    "\n",
    "#convert row[\"data\"] to only data\n",
    "rewards = [row[0] for (row) in graph]"
   ]
  },
  {
   "cell_type": "code",
   "execution_count": null,
   "id": "422ea1f0-df78-4d9d-a96d-1ca8a5855e36",
   "metadata": {},
   "outputs": [],
   "source": [
    "#min\n",
    "minRewards = dfStaker.agg(F.min(\"rewards_total\")).collect()[0][0]\n",
    "\n",
    "maxRewards = dfStaker.agg(F.max(\"rewards_total\")).collect()[0][0]\n"
   ]
  },
  {
   "cell_type": "markdown",
   "id": "7b02dce7-9e2e-4497-bc8f-3037d3ec0f03",
   "metadata": {},
   "source": [
    "### Graph: Distribution of Rewards Total of all Stakers"
   ]
  },
  {
   "cell_type": "code",
   "execution_count": null,
   "id": "0134d656-957b-448f-9e64-0c4af092acbf",
   "metadata": {},
   "outputs": [],
   "source": [
    "# histogram x-axis round when starting participating\n",
    "# how many bars in the histogram should be plotted\n",
    "\n",
    "bin_size = 50\n",
    "# distribute bins log(equally) over the whole data\n",
    "mybins = np.logspace(np.log10(minRewards), np.log10(maxRewards), bin_size)\n",
    "\n",
    "plt.figure()\n",
    "plt.hist(rewards, bins=mybins)\n",
    "plt.rcParams[\"figure.autolayout\"] = True\n",
    "plt.xscale('log')\n",
    "plt.yscale('log')\n",
    "plt.xlabel(\"Microalgos\")\n",
    "plt.ylabel(\"Number of accounts\")\n",
    "plt.title(\"Reward Distribution\", loc='center', pad=None)\n",
    "plt.savefig('/home/ubuntu/apps/figures/2_stakerDistribution/Staker_reward_distribution.jpg', dpi=200)\n",
    "plt.show()\n",
    "plt.close()"
   ]
  },
  {
   "cell_type": "code",
   "execution_count": null,
   "id": "9ed608e3-7788-45aa-a843-67f9448c6f39",
   "metadata": {},
   "outputs": [],
   "source": [
    "# graph select only account balances, sort it from highest to lowest and take the highest 10 balances\n",
    "topStakers = dfStaker.select(\"proportion\", \"rewards_total\", \"addr\").sort(col(\"rewards_total\").desc()).head(10)\n",
    "\n",
    "# preparation for graph\n",
    "\n",
    "topStakersProportion = [row[0] for (row) in topStakers]\n",
    "topStakersRewards = [row[1] for (row) in topStakers]\n",
    "topStakersRewardsAlgos = [row[1]/1000000 for (row) in topStakers]\n",
    "topStakersAddresses = [row[2] for (row) in topStakers]\n",
    "\n",
    "# save the whales, the top 10 whales are saved in a list\n",
    "# the top 10 are plotted\n",
    "name = \"account \"\n",
    "plt.figure()\n",
    "for i in range(5):\n",
    "    plt.bar(name + str(i), topStakersProportion[i], width=0.4)\n",
    "\n",
    "plt.rcParams[\"figure.figsize\"] = (10, 5)\n",
    "plt.title(\"The accounts with the Biggest Rewards Compared to All Rewards\", loc='center',\n",
    "          pad=None)\n",
    "plt.ylabel(\"Proportion in %\")\n",
    "plt.legend([topStakersAddresses[0], topStakersAddresses[1], topStakersAddresses[2], topStakersAddresses[3],\n",
    "            topStakersAddresses[4]])\n",
    "plt.savefig('/home/ubuntu/apps/figures/2_stakerDistribution/ProportionTopStakers.jpg', dpi=200)\n",
    "plt.show()\n",
    "plt.close()\n",
    "\n"
   ]
  },
  {
   "cell_type": "code",
   "execution_count": null,
   "id": "77cd3107-49b8-4b5e-a59a-632c8118466d",
   "metadata": {},
   "outputs": [],
   "source": [
    "#creates a helperlist for the appended date / round\n",
    "newestRoundStaker = [newestRoundStaker]*10\n",
    "\n",
    "# write the current whales in gold table\n",
    "column = [\"Address\", \"Proportion_in_pc\", \"Rewards_in_mAlgos\", \"Rewards_in_Algos\", \"CreationRound\"]\n",
    "result = spark.createDataFrame(zip(topStakersAddresses, topStakersProportion, topStakersRewards,\n",
    "                                   topStakersRewardsAlgos, newestRoundStaker), column)\n",
    "\n",
    "# write it back for metabase dashboard\n",
    "result.write.format(\"mongodb\") \\\n",
    "    .option('spark.mongodb.connection.uri', 'mongodb://172.23.149.212:27017') \\\n",
    "    .mode(\"append\") \\\n",
    "    .option('spark.mongodb.database', 'algorand_gold') \\\n",
    "    .option('spark.mongodb.collection', 'TopStakers_2') \\\n",
    "    .option(\"forceDeleteTempCheckpointLocation\", \"true\") \\\n",
    "    .save()"
   ]
  },
  {
   "cell_type": "code",
   "execution_count": 1,
   "id": "50279100-81c5-4e57-ba8b-2f0e549f85ef",
   "metadata": {},
   "outputs": [
    {
     "ename": "NameError",
     "evalue": "name 'spark' is not defined",
     "output_type": "error",
     "traceback": [
      "\u001b[0;31m---------------------------------------------------------------------------\u001b[0m",
      "\u001b[0;31mNameError\u001b[0m                                 Traceback (most recent call last)",
      "Input \u001b[0;32mIn [1]\u001b[0m, in \u001b[0;36m<cell line: 1>\u001b[0;34m()\u001b[0m\n\u001b[0;32m----> 1\u001b[0m \u001b[43mspark\u001b[49m\u001b[38;5;241m.\u001b[39mstop()\n",
      "\u001b[0;31mNameError\u001b[0m: name 'spark' is not defined"
     ]
    }
   ],
   "source": [
    "spark.stop()"
   ]
  },
  {
   "cell_type": "code",
   "execution_count": null,
   "id": "d67e9c65-9a1c-4cad-a7b5-be183a0cd636",
   "metadata": {},
   "outputs": [],
   "source": []
  }
 ],
 "metadata": {
  "kernelspec": {
   "display_name": "Python 3 (ipykernel)",
   "language": "python",
   "name": "python3"
  },
  "language_info": {
   "codemirror_mode": {
    "name": "ipython",
    "version": 3
   },
   "file_extension": ".py",
   "mimetype": "text/x-python",
   "name": "python",
   "nbconvert_exporter": "python",
   "pygments_lexer": "ipython3",
   "version": "3.8.10"
  }
 },
 "nbformat": 4,
 "nbformat_minor": 5
}
