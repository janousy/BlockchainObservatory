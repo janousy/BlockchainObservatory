{
 "cells": [
  {
   "cell_type": "markdown",
   "id": "9dcaba3c-5224-40dd-a644-b4265fc5a3eb",
   "metadata": {},
   "source": [
    "# Set Up"
   ]
  },
  {
   "cell_type": "markdown",
   "id": "2aa8164b-e2ac-4e39-a7a0-fc6f33009654",
   "metadata": {},
   "source": [
    "imports, configuration, table (Asset) loading"
   ]
  },
  {
   "cell_type": "code",
   "execution_count": 1,
   "id": "80ec3056-b2eb-4678-9863-ba0eb7400388",
   "metadata": {},
   "outputs": [],
   "source": [
    "#importstatements\n",
    "import matplotlib.pyplot as plt\n",
    "import numpy as np\n",
    "\n",
    "import pyspark\n",
    "from pyspark.sql import SparkSession\n",
    "from pyspark.sql import Row\n",
    "from pyspark.sql.functions import *\n",
    "import pyspark.sql.functions as F     \n",
    "from pyspark.sql import types \n",
    "from pyspark.sql.types import StructField, StringType, LongType, DoubleType, BooleanType, StructType, IntegerType   \n",
    "\n",
    "from pyspark.sql.functions import col, hex, base64, avg, collect_list, concat, lit, max\n"
   ]
  },
  {
   "cell_type": "code",
   "execution_count": 2,
   "id": "21713589-de21-43b3-a8f5-070d1cce088f",
   "metadata": {},
   "outputs": [],
   "source": [
    "#config for the sparksession\n",
    "config = pyspark.SparkConf().setAll([\n",
    "    ('spark.executor.memory', '12g'), \n",
    "    ('spark.executor.cores', '2'), \n",
    "    ('spark.cores.max', '4'),\n",
    "    ('spark.driver.memory','2g'),\n",
    "    ('spark.executor.instances', '1'),\n",
    "    ('spark.dynamicAllocation.enabled', 'true'),\n",
    "    ('spark.dynamicAllocation.shuffleTracking.enabled', 'true'),\n",
    "    ('spark.dynamicAllocation.executorIdleTimeout', '60s'),\n",
    "    ('spark.dynamicAllocation.minExecutors', '0'),\n",
    "    ('spark.dynamicAllocation.maxExecutors', '2'),\n",
    "    ('spark.dynamicAllocation.initialExecutors', '1'),\n",
    "    ('spark.dynamicAllocation.executorAllocationRatio', '1'),\n",
    "    ('spark.worker.cleanup.enabled', 'true'),\n",
    "    ('spark.worker.cleanup.interval', '60'),\n",
    "    ('spark.shuffle.service.db.enabled', 'true'),\n",
    "    ('spark.worker.cleanup.appDataTtl', '60'),\n",
    "    ('spark.jars.packages', 'org.mongodb.spark:mongo-spark-connector:10.0.2')\n",
    "])"
   ]
  },
  {
   "cell_type": "code",
   "execution_count": 3,
   "id": "560cb7f8-52a6-4448-9c0b-c5b8b6b0045a",
   "metadata": {},
   "outputs": [
    {
     "name": "stderr",
     "output_type": "stream",
     "text": [
      "22/07/11 12:31:46 WARN Utils: Your hostname, algorand-druid-and-spark resolves to a loopback address: 127.0.0.1; using 172.23.149.212 instead (on interface ens3)\n",
      "22/07/11 12:31:46 WARN Utils: Set SPARK_LOCAL_IP if you need to bind to another address\n",
      "WARNING: An illegal reflective access operation has occurred\n",
      "WARNING: Illegal reflective access by org.apache.spark.unsafe.Platform (file:/home/ubuntu/.local/lib/python3.8/site-packages/pyspark/jars/spark-unsafe_2.12-3.2.1.jar) to constructor java.nio.DirectByteBuffer(long,int)\n",
      "WARNING: Please consider reporting this to the maintainers of org.apache.spark.unsafe.Platform\n",
      "WARNING: Use --illegal-access=warn to enable warnings of further illegal reflective access operations\n",
      "WARNING: All illegal access operations will be denied in a future release\n"
     ]
    },
    {
     "name": "stdout",
     "output_type": "stream",
     "text": [
      ":: loading settings :: url = jar:file:/home/ubuntu/.local/lib/python3.8/site-packages/pyspark/jars/ivy-2.5.0.jar!/org/apache/ivy/core/settings/ivysettings.xml\n"
     ]
    },
    {
     "name": "stderr",
     "output_type": "stream",
     "text": [
      "Ivy Default Cache set to: /home/ubuntu/.ivy2/cache\n",
      "The jars for the packages stored in: /home/ubuntu/.ivy2/jars\n",
      "org.mongodb.spark#mongo-spark-connector added as a dependency\n",
      ":: resolving dependencies :: org.apache.spark#spark-submit-parent-72c3a167-ae55-45bc-9eb4-0e0696e64b19;1.0\n",
      "\tconfs: [default]\n",
      "\tfound org.mongodb.spark#mongo-spark-connector;10.0.2 in central\n",
      "\tfound org.mongodb#mongodb-driver-sync;4.5.1 in central\n",
      "\t[4.5.1] org.mongodb#mongodb-driver-sync;[4.5.0,4.5.99)\n",
      "\tfound org.mongodb#bson;4.5.1 in central\n",
      "\tfound org.mongodb#mongodb-driver-core;4.5.1 in central\n",
      ":: resolution report :: resolve 2818ms :: artifacts dl 13ms\n",
      "\t:: modules in use:\n",
      "\torg.mongodb#bson;4.5.1 from central in [default]\n",
      "\torg.mongodb#mongodb-driver-core;4.5.1 from central in [default]\n",
      "\torg.mongodb#mongodb-driver-sync;4.5.1 from central in [default]\n",
      "\torg.mongodb.spark#mongo-spark-connector;10.0.2 from central in [default]\n",
      "\t---------------------------------------------------------------------\n",
      "\t|                  |            modules            ||   artifacts   |\n",
      "\t|       conf       | number| search|dwnlded|evicted|| number|dwnlded|\n",
      "\t---------------------------------------------------------------------\n",
      "\t|      default     |   4   |   1   |   0   |   0   ||   4   |   0   |\n",
      "\t---------------------------------------------------------------------\n",
      ":: retrieving :: org.apache.spark#spark-submit-parent-72c3a167-ae55-45bc-9eb4-0e0696e64b19\n",
      "\tconfs: [default]\n",
      "\t0 artifacts copied, 4 already retrieved (0kB/27ms)\n",
      "22/07/11 12:31:50 WARN NativeCodeLoader: Unable to load native-hadoop library for your platform... using builtin-java classes where applicable\n",
      "Using Spark's default log4j profile: org/apache/spark/log4j-defaults.properties\n",
      "Setting default log level to \"WARN\".\n",
      "To adjust logging level use sc.setLogLevel(newLevel). For SparkR, use setLogLevel(newLevel).\n",
      "22/07/11 12:31:55 WARN Utils: Service 'SparkUI' could not bind on port 4040. Attempting port 4041.\n",
      "22/07/11 12:31:55 WARN Utils: Service 'SparkUI' could not bind on port 4041. Attempting port 4042.\n",
      "22/07/11 12:31:58 WARN ExecutorAllocationManager: Dynamic allocation without a shuffle service is an experimental feature.\n"
     ]
    }
   ],
   "source": [
    "#create sparksession\n",
    "spark = SparkSession \\\n",
    "    .builder \\\n",
    "    .config(conf=config) \\\n",
    "    .appName(\"5_countFT_NFT\") \\\n",
    "    .master(\"spark://172.23.149.212:7077\") \\\n",
    "    .getOrCreate()"
   ]
  },
  {
   "cell_type": "code",
   "execution_count": 37,
   "id": "9c5d4c13-6682-45de-80d6-454bb375844e",
   "metadata": {},
   "outputs": [],
   "source": [
    "#create a schema so data quality of dfAsset is ensured\n",
    "schema = StructType([ \\\n",
    "    StructField(\"df\", BooleanType(), True), \\\n",
    "    StructField(\"closed_at\", LongType(), True), \\\n",
    "    StructField(\"c\", StringType(), True), \\\n",
    "    StructField(\"f\", StringType(), True), \\\n",
    "    StructField(\"index\", LongType(), True), \\\n",
    "    StructField(\"created_at\", LongType(), True), \\\n",
    "    StructField(\"am\", StringType(), True), \\\n",
    "    StructField(\"an\", StringType(), True), \\\n",
    "    StructField(\"m\", StringType(), True), \\\n",
    "    StructField(\"r\", StringType(), True), \\\n",
    "    StructField(\"deleted\", BooleanType(), True), \\\n",
    "    StructField(\"t\", LongType(), True), \\\n",
    "    StructField(\"au\", StringType(), True), \\\n",
    "    StructField(\"un\", StringType(), True), \\\n",
    "    StructField(\"creator_addr\", StringType(), True), \\\n",
    "    StructField(\"dc\", LongType(), True), \\\n",
    "])"
   ]
  },
  {
   "cell_type": "code",
   "execution_count": 38,
   "id": "dd2378d6-3199-45e5-b980-887dde1fa242",
   "metadata": {},
   "outputs": [],
   "source": [
    "#getting asset table\n",
    "dfAsset = spark.read.format(\"mongodb\") \\\n",
    "    .option('spark.mongodb.connection.uri', 'mongodb://172.23.149.212:27017') \\\n",
    "    .option('spark.mongodb.database', 'algorand') \\\n",
    "    .option('spark.mongodb.collection', 'asset') \\\n",
    "    .option('park.mongodb.read.readPreference.name', 'primaryPreferred') \\\n",
    "    .option('spark.mongodb.change.stream.publish.full.document.only','true') \\\n",
    "    .option(\"forceDeleteTempCheckpointLocation\", \"true\") \\\n",
    "    .schema(schema) \\\n",
    "    .load()"
   ]
  },
  {
   "cell_type": "markdown",
   "id": "bd971ace-e076-4bea-9d88-28d796d542a8",
   "metadata": {},
   "source": [
    "# Distinction of Assets"
   ]
  },
  {
   "cell_type": "markdown",
   "id": "b956d80a-883a-49f8-9688-59191bf8058e",
   "metadata": {},
   "source": [
    "In Algorand it is possible to distinguish between NFT, FT. Additionally it can be detected which assets were deleted. When looking on the deleted assets it cannot be distinguished between NFT and FTs, because the corresponding variables are set to null"
   ]
  },
  {
   "cell_type": "code",
   "execution_count": 39,
   "id": "babb5c1f-cf43-41df-b4eb-05811c829af7",
   "metadata": {},
   "outputs": [
    {
     "name": "stderr",
     "output_type": "stream",
     "text": [
      "                                                                                \r"
     ]
    }
   ],
   "source": [
    "#if amount of assets is exactly one than it has to be an NFT\n",
    "dfAsset= dfAsset.drop(\"dc\", \"df\", \"_id\")\n",
    "\n",
    "dfNFT = dfAsset.where(dfAsset.t == 1)\n",
    "\n",
    "dfFT = dfAsset.where((dfAsset.t != 1 )& (dfAsset.t.isNotNull()))\n",
    "\n",
    "dfDeleted = dfAsset.where(dfAsset.deleted == \"true\")\n",
    "\n",
    "#dfUsers = dfAccounts.where((dfAccounts.rewards_total == 0) & (dfAccounts.deleted == False))\n",
    "NFTcount = dfNFT.count()\n",
    "FTcount = dfFT.count()\n",
    "DelCount = dfDeleted.count()\n"
   ]
  },
  {
   "cell_type": "markdown",
   "id": "99763498",
   "metadata": {},
   "source": [
    "basic statistic results are added to the gold table. The gold table is not overwritten but appended. The data is written to the gold table with a time stamp. The time stamp is the last block which the data has."
   ]
  },
  {
   "cell_type": "code",
   "execution_count": 6,
   "id": "535f8c77-1bb2-4154-a620-f083dbfc8839",
   "metadata": {},
   "outputs": [
    {
     "name": "stderr",
     "output_type": "stream",
     "text": [
      "                                                                                \r"
     ]
    }
   ],
   "source": [
    "#newest round for writing to the gold table\n",
    "newestRound = dfAsset.agg(F.max(\"created_at\")).collect()[0][0]"
   ]
  },
  {
   "cell_type": "code",
   "execution_count": 7,
   "id": "3ead1480-03fe-4ce8-81c3-8bd0d9f75c4e",
   "metadata": {},
   "outputs": [
    {
     "name": "stderr",
     "output_type": "stream",
     "text": [
      "22/07/11 12:35:18 WARN CaseInsensitiveStringMap: Converting duplicated key forcedeletetempcheckpointlocation into CaseInsensitiveStringMap.\n",
      "                                                                                \r"
     ]
    }
   ],
   "source": [
    "#write amount of Algos in gold table\n",
    "#first put value in a df\n",
    "result = spark.createDataFrame(\n",
    "    [\n",
    "        (NFTcount, FTcount, DelCount, newestRound)  # create your data here, be consistent in the types.\n",
    "        \n",
    "    ],\n",
    "    [\"AmountOfNFT\", \"AmountOfFT\", \"AmountOfDeletedAssets\", \"CreationRound\"]  # add your column names here\n",
    ")\n",
    "\n",
    "result.write.format(\"mongodb\") \\\n",
    "\t.option('spark.mongodb.connection.uri', 'mongodb://172.23.149.212:27017') \\\n",
    "  \t.mode(\"append\") \\\n",
    "    .option('spark.mongodb.database', 'algorand_gold') \\\n",
    "  \t.option('spark.mongodb.collection', 'AssetsOverview_5') \\\n",
    "  \t.option(\"forceDeleteTempCheckpointLocation\", \"true\") \\\n",
    "  \t.save()"
   ]
  },
  {
   "cell_type": "markdown",
   "id": "522604bf-2518-4036-b7f0-18ed8e9906ab",
   "metadata": {},
   "source": [
    "# Graphs Based on Blockrounds"
   ]
  },
  {
   "cell_type": "markdown",
   "id": "5bce7886-6c9b-4a4d-ac45-78db9ad4a861",
   "metadata": {},
   "source": [
    "### NFT Graph"
   ]
  },
  {
   "cell_type": "code",
   "execution_count": 8,
   "id": "f7207a6e-2a16-4efc-88de-8cce304dea07",
   "metadata": {},
   "outputs": [
    {
     "name": "stderr",
     "output_type": "stream",
     "text": [
      "                                                                                \r"
     ]
    }
   ],
   "source": [
    "#all people that have created an NFT on which time\n",
    "graph = dfNFT.select(\"created_at\")\n",
    "\n",
    "#preparation for graph\n",
    "graph = graph.collect()\n",
    "\n",
    "#convert row[\"data\"] to only data\n",
    "roundsNFT = [row[0] for (row) in graph]\n"
   ]
  },
  {
   "cell_type": "code",
   "execution_count": 9,
   "id": "77d4a199-4d0b-4d0a-bd9a-d5400f332a9a",
   "metadata": {},
   "outputs": [
    {
     "name": "stderr",
     "output_type": "stream",
     "text": [
      "                                                                                \r"
     ]
    }
   ],
   "source": [
    "#min\n",
    "minNFTrounds = dfNFT.agg(F.min(\"created_at\")).collect()[0][0]\n",
    "maxNFTrounds = dfNFT.agg(F.max(\"created_at\")).collect()[0][0]"
   ]
  },
  {
   "cell_type": "code",
   "execution_count": 10,
   "id": "f27d4458-1d64-4cde-a6a9-7be0771cc466",
   "metadata": {},
   "outputs": [
    {
     "data": {
      "image/png": "[encoded data removed]",
      "text/plain": [
       "<Figure size 432x288 with 1 Axes>"
      ]
     },
     "metadata": {
      "needs_background": "light"
     },
     "output_type": "display_data"
    }
   ],
   "source": [
    "#histogram x-axis round when creating NFT\n",
    "#only the NFTs are taken into consideration, which are not already deleted\n",
    "#the plot is saved to the VM\n",
    "bin_size = 50\n",
    "#distribute bins log(equally) over the whole data\n",
    "mybins = np.logspace(np.log10(minNFTrounds), np.log10(maxNFTrounds), bin_size )\n",
    "\n",
    "plt.figure()\n",
    "plt.hist(roundsNFT, bins = mybins)\n",
    "plt.rcParams[\"figure.autolayout\"] = True\n",
    "plt.xscale('log')\n",
    "plt.yscale('log')\n",
    "plt.xlabel(\"Blockround\")\n",
    "plt.ylabel(\"Number of NFTs\")\n",
    "plt.title(\"Distribution of NFT Creation (Blockround)\", loc ='center', pad = None)\n",
    "plt.savefig('/home/ubuntu/apps/figures/5_countNFT/distribution_of_NFT_creation_perRound.jpg', dpi= 200)\n",
    "plt.show()\n",
    "plt.close()"
   ]
  },
  {
   "cell_type": "markdown",
   "id": "4794e395-4a55-4501-b607-05b69aa927de",
   "metadata": {},
   "source": [
    "### FT Graph"
   ]
  },
  {
   "cell_type": "code",
   "execution_count": 11,
   "id": "d674e6df-cad3-4dae-bf44-6fb4761cb2c6",
   "metadata": {},
   "outputs": [
    {
     "name": "stderr",
     "output_type": "stream",
     "text": [
      "                                                                                \r"
     ]
    }
   ],
   "source": [
    "#all people that have created an FT on which time\n",
    "graphFTround = dfFT.select(\"created_at\")\n",
    "\n",
    "#preparation for graph\n",
    "graphFTround = graphFTround.collect()\n",
    "\n",
    "#convert row[\"data\"] to only data\n",
    "roundsFT = [row[0] for (row) in graphFTround]\n"
   ]
  },
  {
   "cell_type": "code",
   "execution_count": 12,
   "id": "553270ed-d20a-4ccf-bb7f-8e17913db4b8",
   "metadata": {},
   "outputs": [
    {
     "name": "stderr",
     "output_type": "stream",
     "text": [
      "                                                                                \r"
     ]
    }
   ],
   "source": [
    "#min\n",
    "minFTrounds = dfFT.agg(F.min(\"created_at\")).collect()[0][0]\n",
    "maxFTrounds = dfFT.agg(F.max(\"created_at\")).collect()[0][0]"
   ]
  },
  {
   "cell_type": "code",
   "execution_count": 13,
   "id": "e1bbbea3-a46f-43b8-9d78-bd0cab647115",
   "metadata": {},
   "outputs": [
    {
     "data": {
      "image/png": "[encoded data removed]",
      "text/plain": [
       "<Figure size 432x288 with 1 Axes>"
      ]
     },
     "metadata": {
      "needs_background": "light"
     },
     "output_type": "display_data"
    }
   ],
   "source": [
    "#histogram x-axis round when creating NFT\n",
    "bin_size = 50\n",
    "#distribute bins log(equally) over the whole data\n",
    "mybins = np.logspace(np.log10(minFTrounds), np.log10(maxFTrounds), bin_size )\n",
    "\n",
    "plt.figure()\n",
    "plt.hist(roundsFT, bins = mybins)\n",
    "plt.rcParams[\"figure.autolayout\"] = True\n",
    "plt.xscale('log')\n",
    "plt.yscale('log')\n",
    "plt.xlabel(\"Blockround\")\n",
    "plt.ylabel(\"Number of FTs\")\n",
    "plt.title(\"Distribution of FT Creation (Blockround)\", loc ='center', pad = None)\n",
    "plt.savefig('/home/ubuntu/apps/figures/5_countNFT/distribution_of_FT_creation_perRound.jpg', dpi= 200)\n",
    "plt.show()\n",
    "plt.close()"
   ]
  },
  {
   "cell_type": "markdown",
   "id": "823960a1-1182-4464-b2ea-dfffb7b22f14",
   "metadata": {},
   "source": [
    "### NFT vs FT Graph: creation over blockround"
   ]
  },
  {
   "cell_type": "code",
   "execution_count": 23,
   "id": "a1b64576-edc7-4c4b-8a9e-d2ce2e5b7f82",
   "metadata": {},
   "outputs": [
    {
     "data": {
      "image/png": "[encoded data removed]",
      "text/plain": [
       "<Figure size 432x288 with 1 Axes>"
      ]
     },
     "metadata": {
      "needs_background": "light"
     },
     "output_type": "display_data"
    }
   ],
   "source": [
    "#histogram x-axis round when creating NFT\n",
    "#only tokens taken into consideration which are still online\n",
    "#the graph is saved on the vm\n",
    "bin_size = 50\n",
    "#distribute bins log(equally) over the whole data\n",
    "mybins = np.logspace(np.log10(minFTrounds), np.log10(maxFTrounds), bin_size)\n",
    "\n",
    "plt.figure()\n",
    "plt.hist(roundsNFT, bins = mybins, alpha =0.5, label = \"NFT\")\n",
    "plt.hist(roundsFT, bins = mybins, alpha =0.5, label = \"FT\")\n",
    "plt.rcParams[\"figure.autolayout\"] = True\n",
    "plt.xscale('log')\n",
    "plt.yscale('log')\n",
    "plt.xlabel(\"Blockround\")\n",
    "plt.ylabel(\"Number of Tokens\")\n",
    "plt.legend(loc=\"upper right\")\n",
    "plt.title(\"NFT vs FT Creation (Blockround)\", loc ='center', pad = None)\n",
    "plt.savefig('/home/ubuntu/apps/figures/5_countNFT/NFT_vs_FT_creation_Blockround.jpg', dpi= 200)\n",
    "plt.show()\n",
    "plt.close()"
   ]
  },
  {
   "cell_type": "markdown",
   "id": "d41b4462-f3c5-4d87-afb6-b68d7dcd9bba",
   "metadata": {},
   "source": [
    "### Unix Time silver table"
   ]
  },
  {
   "cell_type": "markdown",
   "id": "0fe2574f-736f-4202-80c9-26837ef2f335",
   "metadata": {},
   "source": [
    "the assets have to be joined with the block, so the realtime / unixtime can be added to the silvertable"
   ]
  },
  {
   "cell_type": "code",
   "execution_count": 14,
   "id": "402cb27a-cee6-449a-93af-729d6e157c35",
   "metadata": {},
   "outputs": [],
   "source": [
    "#the expression can also be done in time\n",
    "#get BlockHeader to know the Realtime of a Block\n",
    "dfBlock = spark.read.format(\"mongodb\") \\\n",
    "    .option('spark.mongodb.connection.uri', 'mongodb://172.23.149.212:27017') \\\n",
    "    .option('spark.mongodb.database', 'algorand') \\\n",
    "    .option('spark.mongodb.collection', 'block_header') \\\n",
    "    .option('park.mongodb.read.readPreference.name', 'primaryPreferred') \\\n",
    "    .option('spark.mongodb.change.stream.publish.full.document.only','true') \\\n",
    "    .option(\"forceDeleteTempCheckpointLocation\", \"true\") \\\n",
    "    .load()\n",
    "\n",
    "#select necessary schema\n",
    "dfBlock = dfBlock.select(col(\"round\").alias(\"blockround\"), col(\"realtime\"))"
   ]
  },
  {
   "cell_type": "code",
   "execution_count": 15,
   "id": "599795b4-f4ea-4eeb-bddf-6d54f9173562",
   "metadata": {},
   "outputs": [],
   "source": [
    "#add time to dfTx, where the information about online and offline is stored\n",
    "dfNFT = dfBlock.join(dfNFT, dfBlock.blockround == dfNFT.created_at, \"inner\")\n",
    "#the same for FT\n",
    "dfFT = dfBlock.join(dfFT, dfBlock.blockround == dfFT.created_at, \"inner\")\n"
   ]
  },
  {
   "cell_type": "markdown",
   "id": "db500194-605f-4409-ab39-a868360ce72a",
   "metadata": {},
   "source": [
    "save the newly created df in the silvertable, so the NFT and FT are saved with a unixtime stamp"
   ]
  },
  {
   "cell_type": "code",
   "execution_count": 16,
   "id": "adeb2def-304d-4d85-8334-51758d921cce",
   "metadata": {},
   "outputs": [
    {
     "name": "stderr",
     "output_type": "stream",
     "text": [
      "22/07/11 12:41:15 WARN CaseInsensitiveStringMap: Converting duplicated key forcedeletetempcheckpointlocation into CaseInsensitiveStringMap.\n",
      "22/07/11 12:43:28 WARN CaseInsensitiveStringMap: Converting duplicated key forcedeletetempcheckpointlocation into CaseInsensitiveStringMap.\n",
      "                                                                                \r"
     ]
    }
   ],
   "source": [
    "#post the dfNFT and dfFT in the silvertable after joining\n",
    "dfNFT.write.format(\"mongodb\") \\\n",
    "\t.option('spark.mongodb.connection.uri', 'mongodb://172.23.149.212:27017') \\\n",
    "  \t.mode(\"overwrite\") \\\n",
    "    .option('spark.mongodb.database', 'algorand_silver') \\\n",
    "  \t.option('spark.mongodb.collection', 'NFT_creationTimeInSec_5') \\\n",
    "  \t.option(\"forceDeleteTempCheckpointLocation\", \"true\") \\\n",
    "  \t.save()\n",
    "\n",
    "dfFT.write.format(\"mongodb\") \\\n",
    "\t.option('spark.mongodb.connection.uri', 'mongodb://172.23.149.212:27017') \\\n",
    "  \t.mode(\"overwrite\") \\\n",
    "    .option('spark.mongodb.database', 'algorand_silver') \\\n",
    "  \t.option('spark.mongodb.collection', 'FT_creationTimeInSec_5') \\\n",
    "  \t.option(\"forceDeleteTempCheckpointLocation\", \"true\") \\\n",
    "  \t.save()"
   ]
  },
  {
   "cell_type": "markdown",
   "id": "6e4e0484-666d-4154-92a4-95be769c5b4b",
   "metadata": {},
   "source": [
    "# Token creation vs deletion Graph over blockround"
   ]
  },
  {
   "cell_type": "markdown",
   "id": "9862c956-6a03-49e4-af29-60b442fc714c",
   "metadata": {},
   "source": [
    "### preparation for creating the graph"
   ]
  },
  {
   "cell_type": "code",
   "execution_count": 24,
   "id": "49c92555-74c6-4428-88ea-4f949418b06c",
   "metadata": {},
   "outputs": [
    {
     "name": "stderr",
     "output_type": "stream",
     "text": [
      "                                                                                \r"
     ]
    }
   ],
   "source": [
    "#creation (incl. live) vs deleted #unterscheidung zwischen nft und ft nicht möglich weil deletion t == null\n",
    "#preparation for histogram when all assets are created and when all assets are deleted\n",
    "dfCreated = dfAsset.where(dfAsset.t.isNotNull())\n",
    "\n",
    "#preparation for histogram when all assets are created and when all assets are deleted\n",
    "graphCreated = dfCreated.select(\"created_at\")\n",
    "\n",
    "#preparation for graph\n",
    "graphCreated = graphCreated.collect()\n",
    "\n",
    "#convert row[\"data\"] to only data\n",
    "roundsCreated = [row[0] for (row) in graphCreated]"
   ]
  },
  {
   "cell_type": "markdown",
   "id": "3ae4fcf9-5a1a-4e1a-8fc5-fb7f7069ab3a",
   "metadata": {},
   "source": [
    "The df shows all tokens which were deleted"
   ]
  },
  {
   "cell_type": "code",
   "execution_count": 44,
   "id": "a82b8a4d-efa3-432b-9b99-79e200651947",
   "metadata": {},
   "outputs": [
    {
     "name": "stderr",
     "output_type": "stream",
     "text": [
      "                                                                                \r"
     ]
    }
   ],
   "source": [
    "#preparation for histogram when all assets are created and when all assets are deleted\n",
    "graphDeleted = dfDeleted.select(\"closed_at\")\n",
    "graphDeleted = graphDeleted.collect()\n",
    "\n",
    "#convert row[\"data\"] to only data\n",
    "roundsDeleted = [row[0] for (row) in graphDeleted]"
   ]
  },
  {
   "cell_type": "code",
   "execution_count": 26,
   "id": "379e3db7-9a8e-4c4b-89cd-6f35c0c698e7",
   "metadata": {},
   "outputs": [
    {
     "name": "stderr",
     "output_type": "stream",
     "text": [
      "                                                                                \r"
     ]
    }
   ],
   "source": [
    "#min\n",
    "minRounds = dfAsset.agg(F.min(\"created_at\")).collect()[0][0]\n",
    "maxRounds = dfAsset.agg(F.max(\"created_at\")).collect()[0][0]"
   ]
  },
  {
   "cell_type": "markdown",
   "id": "6b65d2fe-9c64-44db-a123-2e8e3df2080d",
   "metadata": {},
   "source": [
    "### creation of graph: Token creation vs deletion over blockround"
   ]
  },
  {
   "cell_type": "code",
   "execution_count": 46,
   "id": "4a74857e-1d5d-4cbe-a807-b96232988343",
   "metadata": {},
   "outputs": [
    {
     "data": {
      "image/png": "[encoded data removed]",
      "text/plain": [
       "<Figure size 432x288 with 1 Axes>"
      ]
     },
     "metadata": {
      "needs_background": "light"
     },
     "output_type": "display_data"
    }
   ],
   "source": [
    "#histogram when all assets are created and when all assets are deleted\n",
    "bin_size = 50\n",
    "#distribute bins log(equally) over the whole data\n",
    "mybins = np.logspace(np.log10(minRounds), np.log10(maxRounds), bin_size)\n",
    "\n",
    "plt.figure()\n",
    "plt.hist(roundsCreated, bins = mybins, alpha =0.5, label = \"created\")\n",
    "plt.hist(roundsDeleted, bins = mybins, alpha =0.5, label = \"deleted\")\n",
    "plt.rcParams[\"figure.autolayout\"] = True\n",
    "plt.xscale('log')\n",
    "plt.yscale('log')\n",
    "plt.xlabel(\"Blockround\")\n",
    "plt.ylabel(\"Number of Assets\")\n",
    "plt.legend(loc=\"upper right\")\n",
    "plt.title(\"Creation vs. Deletion of Assets (Blockround)\", loc ='center', pad = None)\n",
    "plt.savefig('/home/ubuntu/apps/figures/5_countNFT/Token_creation_vs_deletion.jpg', dpi= 200)\n",
    "plt.show()\n",
    "plt.close()"
   ]
  },
  {
   "cell_type": "markdown",
   "id": "c0000243-242e-4207-9a87-c24fd7d97062",
   "metadata": {},
   "source": [
    "# Number of NFT vs FT Bar Chart"
   ]
  },
  {
   "cell_type": "code",
   "execution_count": null,
   "id": "ef7ae44c-ea9d-4cc8-8035-1181db30a8c4",
   "metadata": {},
   "outputs": [],
   "source": [
    "plt.figure()\n",
    "plt.bar(\"NFT\", NFTcount, width = 0.4, color=\"blue\", label=\"NFT\")\n",
    "plt.bar(\"FT\", FTcount, width = 0.4, color=\"orange\", label=\"FT\")\n",
    "plt.title(\"Number of NFTs vs FTs\", loc ='center', pad = None)\n",
    "plt.savefig('/home/ubuntu/apps/figures/5_countNFT/amount_NFT_vs_FT.jpg', dpi= 200)\n",
    "plt.show()\n",
    "plt.close()"
   ]
  },
  {
   "cell_type": "code",
   "execution_count": 47,
   "id": "d8d3366e-2391-48f5-981d-9ce616b0856d",
   "metadata": {},
   "outputs": [],
   "source": [
    "spark.stop()"
   ]
  },
  {
   "cell_type": "code",
   "execution_count": null,
   "id": "9cd79a7c-90c0-4078-8038-f0260a526a0d",
   "metadata": {},
   "outputs": [],
   "source": []
  }
 ],
 "metadata": {
  "kernelspec": {
   "display_name": "Python 3 (ipykernel)",
   "language": "python",
   "name": "python3"
  },
  "language_info": {
   "codemirror_mode": {
    "name": "ipython",
    "version": 3
   },
   "file_extension": ".py",
   "mimetype": "text/x-python",
   "name": "python",
   "nbconvert_exporter": "python",
   "pygments_lexer": "ipython3",
   "version": "3.8.10"
  }
 },
 "nbformat": 4,
 "nbformat_minor": 5
}
