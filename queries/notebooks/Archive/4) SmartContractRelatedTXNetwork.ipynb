{
 "cells": [
  {
   "cell_type": "markdown",
   "id": "35a78769",
   "metadata": {},
   "source": [
    "This query tries to figure out how many smart contracts were deployed in the network. Furthermore, a network with the applications and senders as nodes and transactions from senders to nodes can be creaded."
   ]
  },
  {
   "cell_type": "code",
   "execution_count": 10,
   "id": "6c428647",
   "metadata": {},
   "outputs": [],
   "source": [
    "spark.stop()"
   ]
  },
  {
   "cell_type": "code",
   "execution_count": 1,
   "id": "3cef39fe",
   "metadata": {},
   "outputs": [],
   "source": [
    "import networkx as nx\n",
    "import matplotlib.pyplot as plt\n",
    "import matplotlib as mpt\n",
    "import numpy as np\n",
    "\n",
    "import pyspark\n",
    "from pyspark.sql import SparkSession\n",
    "from pyspark.sql import Row\n",
    "from graphframes import *\n",
    "from delta import *\n",
    "from delta.tables import *\n",
    "\n",
    "import pyspark.sql.functions as fn\n",
    "from pyspark.sql.types import StringType, BooleanType, DateType"
   ]
  },
  {
   "cell_type": "markdown",
   "id": "638bf12e",
   "metadata": {},
   "source": [
    "Define the configuration that should be used"
   ]
  },
  {
   "cell_type": "code",
   "execution_count": 2,
   "id": "53a449f1",
   "metadata": {},
   "outputs": [],
   "source": [
    "config = pyspark.SparkConf().setAll([\n",
    "    ('spark.executor.memory', '12g'), \n",
    "    ('spark.executor.cores', '3'), \n",
    "    ('spark.cores.max', '6'),\n",
    "    ('spark.driver.memory','1g'),\n",
    "    ('spark.executor.instances', '1'),\n",
    "    ('spark.dynamicAllocation.enabled', 'true'),\n",
    "    ('spark.dynamicAllocation.shuffleTracking.enabled', 'true'),\n",
    "    ('spark.dynamicAllocation.executorIdleTimeout', '60s'),\n",
    "    ('spark.dynamicAllocation.minExecutors', '0'),\n",
    "    ('spark.dynamicAllocation.maxExecutors', '2'),\n",
    "    ('spark.dynamicAllocation.initialExecutors', '1'),\n",
    "    ('spark.dynamicAllocation.executorAllocationRatio', '1')\n",
    "])"
   ]
  },
  {
   "cell_type": "code",
   "execution_count": 3,
   "id": "6a212c9b",
   "metadata": {
    "scrolled": true
   },
   "outputs": [
    {
     "name": "stderr",
     "output_type": "stream",
     "text": [
      "22/05/26 13:55:11 WARN Utils: Your hostname, algorand-druid-and-spark resolves to a loopback address: 127.0.0.1; using 172.23.149.212 instead (on interface ens3)\n",
      "22/05/26 13:55:11 WARN Utils: Set SPARK_LOCAL_IP if you need to bind to another address\n",
      "WARNING: An illegal reflective access operation has occurred\n",
      "WARNING: Illegal reflective access by org.apache.spark.unsafe.Platform (file:/home/ubuntu/.local/lib/python3.8/site-packages/pyspark/jars/spark-unsafe_2.12-3.2.1.jar) to constructor java.nio.DirectByteBuffer(long,int)\n",
      "WARNING: Please consider reporting this to the maintainers of org.apache.spark.unsafe.Platform\n",
      "WARNING: Use --illegal-access=warn to enable warnings of further illegal reflective access operations\n",
      "WARNING: All illegal access operations will be denied in a future release\n"
     ]
    },
    {
     "name": "stdout",
     "output_type": "stream",
     "text": [
      ":: loading settings :: url = jar:file:/home/ubuntu/.local/lib/python3.8/site-packages/pyspark/jars/ivy-2.5.0.jar!/org/apache/ivy/core/settings/ivysettings.xml\n"
     ]
    },
    {
     "name": "stderr",
     "output_type": "stream",
     "text": [
      "Ivy Default Cache set to: /home/ubuntu/.ivy2/cache\n",
      "The jars for the packages stored in: /home/ubuntu/.ivy2/jars\n",
      "io.delta#delta-core_2.12 added as a dependency\n",
      ":: resolving dependencies :: org.apache.spark#spark-submit-parent-1bd8fbe0-fe0e-48a5-a622-687156e7bb68;1.0\n",
      "\tconfs: [default]\n",
      "\tfound io.delta#delta-core_2.12;1.1.0 in central\n",
      "\tfound org.antlr#antlr4-runtime;4.8 in central\n",
      "\tfound org.codehaus.jackson#jackson-core-asl;1.9.13 in central\n",
      ":: resolution report :: resolve 736ms :: artifacts dl 5ms\n",
      "\t:: modules in use:\n",
      "\tio.delta#delta-core_2.12;1.1.0 from central in [default]\n",
      "\torg.antlr#antlr4-runtime;4.8 from central in [default]\n",
      "\torg.codehaus.jackson#jackson-core-asl;1.9.13 from central in [default]\n",
      "\t---------------------------------------------------------------------\n",
      "\t|                  |            modules            ||   artifacts   |\n",
      "\t|       conf       | number| search|dwnlded|evicted|| number|dwnlded|\n",
      "\t---------------------------------------------------------------------\n",
      "\t|      default     |   3   |   0   |   0   |   0   ||   3   |   0   |\n",
      "\t---------------------------------------------------------------------\n",
      ":: retrieving :: org.apache.spark#spark-submit-parent-1bd8fbe0-fe0e-48a5-a622-687156e7bb68\n",
      "\tconfs: [default]\n",
      "\t0 artifacts copied, 3 already retrieved (0kB/6ms)\n",
      "22/05/26 13:55:12 WARN NativeCodeLoader: Unable to load native-hadoop library for your platform... using builtin-java classes where applicable\n",
      "Using Spark's default log4j profile: org/apache/spark/log4j-defaults.properties\n",
      "Setting default log level to \"WARN\".\n",
      "To adjust logging level use sc.setLogLevel(newLevel). For SparkR, use setLogLevel(newLevel).\n",
      "22/05/26 13:55:14 WARN ExecutorAllocationManager: Dynamic allocation without a shuffle service is an experimental feature.\n"
     ]
    }
   ],
   "source": [
    "builder = pyspark.sql.SparkSession.builder \\\n",
    "    .appName(\"SmartContractRelatedTXNetwork\") \\\n",
    "    .master(\"spark://172.23.149.212:7077\") \\\n",
    "    .config(conf=config) \\\n",
    "    .config(\"spark.sql.extensions\", \"io.delta.sql.DeltaSparkSessionExtension\") \\\n",
    "    .config(\"spark.sql.catalog.spark_catalog\", \"org.apache.spark.sql.delta.catalog.DeltaCatalog\")\n",
    "\n",
    "spark = configure_spark_with_delta_pip(builder).getOrCreate()"
   ]
  },
  {
   "cell_type": "markdown",
   "id": "1be07d3d",
   "metadata": {},
   "source": [
    "Read the transactions_flat table from the Delta Lake"
   ]
  },
  {
   "cell_type": "code",
   "execution_count": 56,
   "id": "b9a74fd1",
   "metadata": {},
   "outputs": [
    {
     "name": "stderr",
     "output_type": "stream",
     "text": [
      "                                                                                \r"
     ]
    },
    {
     "name": "stdout",
     "output_type": "stream",
     "text": [
      "Number of total transactions 47244794\n",
      "-RECORD 0---------------------------------------------------\n",
      " ROUND       | 215151                                       \n",
      " TXID        | null                                         \n",
      " INTRA       | 2                                            \n",
      " TYPEENUM    | 1                                            \n",
      " ASSET       | null                                         \n",
      " TXN_SND     | 7OUGoX3hg950O7LF51T+7uRwEWw9PMlVpp0axxDgZY0= \n",
      " TXN_TYPE    | pay                                          \n",
      " TXN_RCV     | 5LMyUgikZxnv5RI3OLDyxPqFLo+9EfNYXR5LduhmmCY= \n",
      " TXN_AMT     | 1                                            \n",
      " TXN_VOTEFST | null                                         \n",
      " TXN_APID    | null                                         \n",
      " TXN_APAN    | null                                         \n",
      " TXN_APAT    | null                                         \n",
      " TXN_APAP    | null                                         \n",
      " TXN_APAA    | null                                         \n",
      " TXN_APSU    | null                                         \n",
      " TXN_APFA    | null                                         \n",
      " TXN_APAS    | null                                         \n",
      " TXN_APGS    | null                                         \n",
      " TXN_APLS    | null                                         \n",
      " TXN_APEP    | null                                         \n",
      "only showing top 1 row\n",
      "\n"
     ]
    }
   ],
   "source": [
    "# account table to determine which accounts have received rewards\n",
    "dfTx = spark.read.format(\"delta\").load(\"/mnt/delta/bronze/algod_indexer_public_txn_flat\")\n",
    "dfTx = dfTx.drop(\"key\", \"EXTRA\", \"RR\", \"SIG\", \"TXN_FEE\", \"TXN_FV\", \"TXN_GH\", \"TXN_LV\", \"TXN_GEN\", \"TXN_GRP\", \"TXN_LX\", \"TXN_NOTE\", \"TXN_REKEY\", \"TXN_CLOSE\", \"TXN_VOTEKEY\", \"TXN_SELKEY\", \"TXN_VOTELST\", \"TXN_VOTEKD\", \"TXN_NONPART\", \"TXN_CAID\", \"TXN_APAR\", \"TXN_XAID\", \"TXN_AAMT\", \"TXN_ASND\", \"TXN_ARCV\", \"TXN_ACLOSE\", \"TXN_FADD\", \"TXN_FAID\", \"TXN_AFRZ\", \"TXN_SIG\", \"TXN_MSIG\", \"TXN_LSIG\")\n",
    "\n",
    "print(\"Number of total transactions\", dfTx.count())\n",
    "dfTx.show(1, vertical=True, truncate=False)"
   ]
  },
  {
   "cell_type": "code",
   "execution_count": 57,
   "id": "7479a38a",
   "metadata": {},
   "outputs": [
    {
     "name": "stdout",
     "output_type": "stream",
     "text": [
      "1995\n"
     ]
    }
   ],
   "source": [
    "print(dfTx.rdd.getNumPartitions())"
   ]
  },
  {
   "cell_type": "code",
   "execution_count": 58,
   "id": "e0f818f3",
   "metadata": {},
   "outputs": [
    {
     "data": {
      "text/plain": [
       "6"
      ]
     },
     "execution_count": 58,
     "metadata": {},
     "output_type": "execute_result"
    }
   ],
   "source": [
    "dfTxtest = dfTx.coalesce(6)\n",
    "dfTxtest.rdd.getNumPartitions()"
   ]
  },
  {
   "cell_type": "code",
   "execution_count": 59,
   "id": "3077b653",
   "metadata": {},
   "outputs": [
    {
     "name": "stderr",
     "output_type": "stream",
     "text": [
      "22/05/26 17:34:01 WARN TaskSetManager: Stage 209 contains a task of very large size (1454 KiB). The maximum recommended task size is 1000 KiB.\n",
      "[Stage 209:======================================>                  (4 + 2) / 6]\r"
     ]
    },
    {
     "name": "stdout",
     "output_type": "stream",
     "text": [
      "+--------+--------+\n",
      "|TXN_TYPE|   count|\n",
      "+--------+--------+\n",
      "|    acfg|     853|\n",
      "|  keyreg|     507|\n",
      "|   axfer|36773572|\n",
      "|     pay|10469849|\n",
      "|    afrz|      13|\n",
      "+--------+--------+\n",
      "\n"
     ]
    },
    {
     "name": "stderr",
     "output_type": "stream",
     "text": [
      "\r",
      "                                                                                \r"
     ]
    }
   ],
   "source": [
    "dfUseCaseDistribution = dfTxtest.groupBy(\"TXN_TYPE\").count()\n",
    "dfUseCaseDistribution.show()"
   ]
  },
  {
   "cell_type": "code",
   "execution_count": 52,
   "id": "bc5765d8",
   "metadata": {},
   "outputs": [],
   "source": [
    "dfTX2 = dfTx.select(\"ROUND\")"
   ]
  },
  {
   "cell_type": "code",
   "execution_count": 46,
   "id": "8cd076a3",
   "metadata": {},
   "outputs": [
    {
     "name": "stderr",
     "output_type": "stream",
     "text": [
      "\r",
      "[Stage 139:===============================================>       (43 + 4) / 50]\r",
      "\r",
      "                                                                                \r"
     ]
    },
    {
     "name": "stdout",
     "output_type": "stream",
     "text": [
      "+------+\n",
      "| ROUND|\n",
      "+------+\n",
      "|215151|\n",
      "|215151|\n",
      "|215151|\n",
      "|215151|\n",
      "|215151|\n",
      "+------+\n",
      "only showing top 5 rows\n",
      "\n"
     ]
    }
   ],
   "source": [
    "dfTX2.show(5)"
   ]
  },
  {
   "cell_type": "code",
   "execution_count": 38,
   "id": "be87d75a",
   "metadata": {},
   "outputs": [
    {
     "name": "stdout",
     "output_type": "stream",
     "text": [
      "6\n"
     ]
    }
   ],
   "source": [
    "dfTest = spark.range(1, 100000000)\n",
    "print(dfTest.rdd.getNumPartitions())"
   ]
  },
  {
   "cell_type": "code",
   "execution_count": 39,
   "id": "ca34450a",
   "metadata": {},
   "outputs": [
    {
     "name": "stdout",
     "output_type": "stream",
     "text": [
      "+---+\n",
      "| id|\n",
      "+---+\n",
      "|  1|\n",
      "|  2|\n",
      "|  3|\n",
      "|  4|\n",
      "|  5|\n",
      "+---+\n",
      "only showing top 5 rows\n",
      "\n"
     ]
    }
   ],
   "source": [
    "dfTest.show(5)"
   ]
  },
  {
   "cell_type": "code",
   "execution_count": 42,
   "id": "0ccba4c2",
   "metadata": {},
   "outputs": [
    {
     "name": "stdout",
     "output_type": "stream",
     "text": [
      "+----------------+\n",
      "|         sum(id)|\n",
      "+----------------+\n",
      "|4999999950000000|\n",
      "+----------------+\n",
      "\n"
     ]
    }
   ],
   "source": [
    "dfTest.agg(fn.sum(\"id\")).show()"
   ]
  },
  {
   "cell_type": "code",
   "execution_count": 54,
   "id": "a830c0a9",
   "metadata": {},
   "outputs": [
    {
     "name": "stderr",
     "output_type": "stream",
     "text": [
      "[Stage 177:>                                                        (0 + 6) / 6]\r"
     ]
    },
    {
     "name": "stdout",
     "output_type": "stream",
     "text": [
      "+-------------------+\n",
      "|         sum(ROUND)|\n",
      "+-------------------+\n",
      "|4.02294943404127E14|\n",
      "+-------------------+\n",
      "\n"
     ]
    },
    {
     "name": "stderr",
     "output_type": "stream",
     "text": [
      "\r",
      "                                                                                \r"
     ]
    }
   ],
   "source": [
    "dfTX2.agg(fn.sum(\"ROUND\")).show()"
   ]
  },
  {
   "cell_type": "markdown",
   "id": "195cfaa6",
   "metadata": {},
   "source": [
    "### Use Cases"
   ]
  },
  {
   "cell_type": "markdown",
   "id": "6628b129",
   "metadata": {},
   "source": [
    "We want to distinguish between different use cases of the transactions. To do so, we make use of type of a transaction. we distinguish between the following transactions\n",
    "- PaymentTx, type = \"pay\", typeEnum = 1. This transaction sends Algos from one account to another.\n",
    "- KeyRegistrationTx, type = \"keyreg\", typeEnum = 2. This transaction is done to register an account either online or offline. A transaction is an online transaction if it has participation-key related fields, namely votekey, selkey, votekd, votefst and votelst. A transaction is an offline transaction if these fields are missing. The moment a key registration transaction is confirmed by the network it takes 320 rounds for the change to take effect. In other words, if a key registration is confirmed in round 1000, the account will not start participating until round 1320.\n",
    "- AssetConfigTx, type = \"acfg\", typeEnum = 3. This transaction is used to create an asset, modify certain parameters of an asset, or destroy an asset. \n",
    "- AssetTransferTx, type = \"axfer\", typeEnum = 4. An Asset Transfer Transaction is used to opt-in to receive a specific type of Algorand Standard Asset, transfer an Algorand Standard asset, or revoke an Algorand Standard Asset from a specific account.\n",
    "- AssetFreezeTx, type = \"afrz\", tpyeEnum = 5. An Asset Freeze Transaction is issued by the Freeze Address and results in the asset receiver address losing or being granted the ability to send or receive the frozen asset.\n",
    "- ApplicationCallTx, type = \"appl\", typeEnum = 6. An Application Call Transaction is submitted to the network with an AppId and an OnComplete method. The AppId specifies which App to call and the OnComplete method is used in the contract to determine what branch of logic to execute."
   ]
  },
  {
   "cell_type": "markdown",
   "id": "637fd3d3",
   "metadata": {},
   "source": [
    "More information can be found under https://developer.algorand.org/docs/get-details/transactions/"
   ]
  },
  {
   "cell_type": "code",
   "execution_count": 25,
   "id": "e473af94",
   "metadata": {},
   "outputs": [
    {
     "name": "stderr",
     "output_type": "stream",
     "text": [
      "[Stage 205:==================================================>    (44 + 4) / 48]\r"
     ]
    },
    {
     "name": "stdout",
     "output_type": "stream",
     "text": [
      "+--------+-------+\n",
      "|TXN_TYPE|  count|\n",
      "+--------+-------+\n",
      "|    acfg|    175|\n",
      "|    afrz|      3|\n",
      "|  keyreg|    337|\n",
      "|   axfer|  37983|\n",
      "|     pay|1273597|\n",
      "+--------+-------+\n",
      "\n"
     ]
    },
    {
     "name": "stderr",
     "output_type": "stream",
     "text": [
      "\r",
      "                                                                                \r"
     ]
    }
   ],
   "source": [
    "dfUseCaseDistribution = dfTx.groupBy(\"TXN_TYPE\").count()\n",
    "dfUseCaseDistribution.show()"
   ]
  },
  {
   "cell_type": "markdown",
   "id": "90b78a3c",
   "metadata": {},
   "source": [
    "Create a cross join to have another column with the sum in each row for diving it later"
   ]
  },
  {
   "cell_type": "code",
   "execution_count": 26,
   "id": "603cf539",
   "metadata": {},
   "outputs": [],
   "source": [
    "dfUseCaseDistribution = dfUseCaseDistribution.crossJoin(dfUseCaseDistribution.groupby().agg(fn.sum('count').alias('sum_count')))"
   ]
  },
  {
   "cell_type": "code",
   "execution_count": 27,
   "id": "f6ef3b19",
   "metadata": {},
   "outputs": [],
   "source": [
    "dfUseCaseDistribution = dfUseCaseDistribution.select('TXN_TYPE', 'count', (fn.col('count') / fn.col('sum_count')).alias(\"percent\"))"
   ]
  },
  {
   "cell_type": "code",
   "execution_count": 28,
   "id": "6a420067",
   "metadata": {},
   "outputs": [
    {
     "name": "stderr",
     "output_type": "stream",
     "text": [
      "\r",
      "[Stage 219:===========================================>           (38 + 6) / 48]\r"
     ]
    },
    {
     "name": "stdout",
     "output_type": "stream",
     "text": [
      "+--------+-------+---------------------+\n",
      "|TXN_TYPE|count  |percent              |\n",
      "+--------+-------+---------------------+\n",
      "|acfg    |175    |1.3336442629672136E-4|\n",
      "|afrz    |3      |2.286247307943795E-6 |\n",
      "|keyreg  |337    |2.5682178092568627E-4|\n",
      "|axfer   |37983  |0.028946177165876386 |\n",
      "|pay     |1273696|0.9706613503795932   |\n",
      "+--------+-------+---------------------+\n",
      "\n"
     ]
    },
    {
     "name": "stderr",
     "output_type": "stream",
     "text": [
      "\r",
      "                                                                                \r"
     ]
    }
   ],
   "source": [
    "dfUseCaseDistribution.show(truncate=False)"
   ]
  },
  {
   "cell_type": "code",
   "execution_count": null,
   "id": "d5509226",
   "metadata": {},
   "outputs": [],
   "source": [
    "dfMiners.write.format(\"delta\").mode(\"overwrite\").save(\"/mnt/delta/silver/queries/network/miner.addresses\")\n",
    "dfUsers.write.format(\"delta\").mode(\"overwrite\").save(\"/mnt/delta/silver/queries/network/user.addresses\")"
   ]
  }
 ],
 "metadata": {
  "kernelspec": {
   "display_name": "Python 3 (ipykernel)",
   "language": "python",
   "name": "python3"
  },
  "language_info": {
   "codemirror_mode": {
    "name": "ipython",
    "version": 3
   },
   "file_extension": ".py",
   "mimetype": "text/x-python",
   "name": "python",
   "nbconvert_exporter": "python",
   "pygments_lexer": "ipython3",
   "version": "3.8.10"
  }
 },
 "nbformat": 4,
 "nbformat_minor": 5
}
