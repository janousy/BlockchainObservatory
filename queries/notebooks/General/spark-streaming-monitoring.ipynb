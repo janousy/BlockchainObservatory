{
 "cells": [
  {
   "cell_type": "code",
   "execution_count": 1,
   "id": "07679f5c",
   "metadata": {},
   "outputs": [],
   "source": [
    "from pyspark.sql.types import  *\n",
    "from pyspark.sql.functions import *\n",
    "from pyspark.sql import SparkSession\n",
    "from datetime import datetime, date\n",
    "from pyspark.sql import Row\n",
    "from delta import *\n",
    "from delta.tables import *\n",
    "import pyspark\n",
    "import matplotlib.pyplot as plt"
   ]
  },
  {
   "cell_type": "code",
   "execution_count": 2,
   "id": "dab7c515",
   "metadata": {},
   "outputs": [],
   "source": [
    "config = pyspark.SparkConf().setAll([\n",
    "    ('spark.executor.memory', '5g'), \n",
    "    ('spark.executor.cores', '2'), \n",
    "    ('spark.cores.max', '6'),\n",
    "    ('spark.driver.memory','1g'),\n",
    "    ('spark.executor.instances', '1'),\n",
    "    ('spark.dynamicAllocation.enabled', 'true'),\n",
    "    ('spark.dynamicAllocation.shuffleTracking.enabled', 'true'),\n",
    "    ('spark.dynamicAllocation.executorIdleTimeout', '60s'),\n",
    "    ('spark.dynamicAllocation.minExecutors', '0'),\n",
    "    ('spark.dynamicAllocation.maxExecutors', '2'),\n",
    "    ('spark.dynamicAllocation.initialExecutors', '1'),\n",
    "    ('spark.dynamicAllocation.executorAllocationRatio', '1')])"
   ]
  },
  {
   "cell_type": "code",
   "execution_count": 3,
   "id": "1792f4bb",
   "metadata": {},
   "outputs": [
    {
     "name": "stderr",
     "output_type": "stream",
     "text": [
      "22/05/23 16:28:58 WARN Utils: Your hostname, algorand-druid-and-spark resolves to a loopback address: 127.0.0.1; using 172.23.149.212 instead (on interface ens3)\n",
      "22/05/23 16:28:58 WARN Utils: Set SPARK_LOCAL_IP if you need to bind to another address\n",
      "WARNING: An illegal reflective access operation has occurred\n",
      "WARNING: Illegal reflective access by org.apache.spark.unsafe.Platform (file:/home/ubuntu/.local/lib/python3.8/site-packages/pyspark/jars/spark-unsafe_2.12-3.2.1.jar) to constructor java.nio.DirectByteBuffer(long,int)\n",
      "WARNING: Please consider reporting this to the maintainers of org.apache.spark.unsafe.Platform\n",
      "WARNING: Use --illegal-access=warn to enable warnings of further illegal reflective access operations\n",
      "WARNING: All illegal access operations will be denied in a future release\n"
     ]
    },
    {
     "name": "stdout",
     "output_type": "stream",
     "text": [
      ":: loading settings :: url = jar:file:/home/ubuntu/.local/lib/python3.8/site-packages/pyspark/jars/ivy-2.5.0.jar!/org/apache/ivy/core/settings/ivysettings.xml\n"
     ]
    },
    {
     "name": "stderr",
     "output_type": "stream",
     "text": [
      "Ivy Default Cache set to: /home/ubuntu/.ivy2/cache\n",
      "The jars for the packages stored in: /home/ubuntu/.ivy2/jars\n",
      "io.delta#delta-core_2.12 added as a dependency\n",
      ":: resolving dependencies :: org.apache.spark#spark-submit-parent-c6d66a33-fda5-444f-be6e-60a4f4aa5919;1.0\n",
      "\tconfs: [default]\n",
      "\tfound io.delta#delta-core_2.12;1.1.0 in central\n",
      "\tfound org.antlr#antlr4-runtime;4.8 in central\n",
      "\tfound org.codehaus.jackson#jackson-core-asl;1.9.13 in central\n",
      ":: resolution report :: resolve 624ms :: artifacts dl 21ms\n",
      "\t:: modules in use:\n",
      "\tio.delta#delta-core_2.12;1.1.0 from central in [default]\n",
      "\torg.antlr#antlr4-runtime;4.8 from central in [default]\n",
      "\torg.codehaus.jackson#jackson-core-asl;1.9.13 from central in [default]\n",
      "\t---------------------------------------------------------------------\n",
      "\t|                  |            modules            ||   artifacts   |\n",
      "\t|       conf       | number| search|dwnlded|evicted|| number|dwnlded|\n",
      "\t---------------------------------------------------------------------\n",
      "\t|      default     |   3   |   0   |   0   |   0   ||   3   |   0   |\n",
      "\t---------------------------------------------------------------------\n",
      ":: retrieving :: org.apache.spark#spark-submit-parent-c6d66a33-fda5-444f-be6e-60a4f4aa5919\n",
      "\tconfs: [default]\n",
      "\t0 artifacts copied, 3 already retrieved (0kB/33ms)\n",
      "22/05/23 16:29:00 WARN NativeCodeLoader: Unable to load native-hadoop library for your platform... using builtin-java classes where applicable\n",
      "Using Spark's default log4j profile: org/apache/spark/log4j-defaults.properties\n",
      "Setting default log level to \"WARN\".\n",
      "To adjust logging level use sc.setLogLevel(newLevel). For SparkR, use setLogLevel(newLevel).\n",
      "22/05/23 16:29:02 WARN Utils: Service 'SparkUI' could not bind on port 4040. Attempting port 4041.\n",
      "22/05/23 16:29:03 WARN ExecutorAllocationManager: Dynamic allocation without a shuffle service is an experimental feature.\n"
     ]
    }
   ],
   "source": [
    "builder = pyspark.sql.SparkSession.builder \\\n",
    "    .appName(\"Spark-Stream-Monitoring\") \\\n",
    "    .master(\"spark://172.23.149.212:7077\") \\\n",
    "    .config(conf=config) \\\n",
    "    .config(\"spark.sql.extensions\", \"io.delta.sql.DeltaSparkSessionExtension\") \\\n",
    "    .config(\"spark.sql.catalog.spark_catalog\", \"org.apache.spark.sql.delta.catalog.DeltaCatalog\")\n",
    "\n",
    "spark = configure_spark_with_delta_pip(builder).getOrCreate()"
   ]
  },
  {
   "cell_type": "code",
   "execution_count": 4,
   "id": "e65bea58",
   "metadata": {},
   "outputs": [
    {
     "name": "stderr",
     "output_type": "stream",
     "text": [
      "                                                                                \r"
     ]
    }
   ],
   "source": [
    "stream_df_txn = spark.readStream.format(\"delta\").load(\"/mnt/delta/bronze/algod_indexer_public_txn_flat\")"
   ]
  },
  {
   "cell_type": "code",
   "execution_count": 5,
   "id": "d9eeee96",
   "metadata": {},
   "outputs": [
    {
     "name": "stdout",
     "output_type": "stream",
     "text": [
      "root\n",
      " |-- key: string (nullable = true)\n",
      " |-- ROUND: string (nullable = true)\n",
      " |-- TXID: long (nullable = true)\n",
      " |-- INTRA: long (nullable = true)\n",
      " |-- TYPEENUM: long (nullable = true)\n",
      " |-- ASSET: boolean (nullable = true)\n",
      " |-- EXTRA: string (nullable = true)\n",
      " |-- RR: long (nullable = true)\n",
      " |-- SIG: string (nullable = true)\n",
      " |-- TXN_FEE: long (nullable = true)\n",
      " |-- TXN_FV: long (nullable = true)\n",
      " |-- TXN_GH: string (nullable = true)\n",
      " |-- TXN_LV: long (nullable = true)\n",
      " |-- TXN_SND: string (nullable = true)\n",
      " |-- TXN_TYPE: string (nullable = true)\n",
      " |-- TXN_GEN: string (nullable = true)\n",
      " |-- TXN_GRP: string (nullable = true)\n",
      " |-- TXN_LX: string (nullable = true)\n",
      " |-- TXN_NOTE: string (nullable = true)\n",
      " |-- TXN_REKEY: string (nullable = true)\n",
      " |-- TXN_RCV: string (nullable = true)\n",
      " |-- TXN_AMT: string (nullable = true)\n",
      " |-- TXN_CLOSE: string (nullable = true)\n",
      " |-- TXN_VOTEKEY: string (nullable = true)\n",
      " |-- TXN_SELKEY: string (nullable = true)\n",
      " |-- TXN_VOTEFST: long (nullable = true)\n",
      " |-- TXN_VOTELST: long (nullable = true)\n",
      " |-- TXN_VOTEKD: long (nullable = true)\n",
      " |-- TXN_NONPART: boolean (nullable = true)\n",
      " |-- TXN_CAID: long (nullable = true)\n",
      " |-- TXN_APAR: string (nullable = true)\n",
      " |-- TXN_XAID: long (nullable = true)\n",
      " |-- TXN_AAMT: long (nullable = true)\n",
      " |-- TXN_ASND: string (nullable = true)\n",
      " |-- TXN_ARCV: string (nullable = true)\n",
      " |-- TXN_ACLOSE: string (nullable = true)\n",
      " |-- TXN_FADD: string (nullable = true)\n",
      " |-- TXN_FAID: long (nullable = true)\n",
      " |-- TXN_AFRZ: boolean (nullable = true)\n",
      " |-- TXN_APID: long (nullable = true)\n",
      " |-- TXN_APAN: long (nullable = true)\n",
      " |-- TXN_APAT: string (nullable = true)\n",
      " |-- TXN_APAP: string (nullable = true)\n",
      " |-- TXN_APAA: string (nullable = true)\n",
      " |-- TXN_APSU: string (nullable = true)\n",
      " |-- TXN_APFA: string (nullable = true)\n",
      " |-- TXN_APAS: string (nullable = true)\n",
      " |-- TXN_APGS: string (nullable = true)\n",
      " |-- TXN_APLS: string (nullable = true)\n",
      " |-- TXN_APEP: string (nullable = true)\n",
      " |-- TXN_SIG: string (nullable = true)\n",
      " |-- TXN_MSIG: string (nullable = true)\n",
      " |-- TXN_LSIG: string (nullable = true)\n",
      "\n"
     ]
    }
   ],
   "source": [
    "stream_df_txn.printSchema()"
   ]
  },
  {
   "cell_type": "code",
   "execution_count": 6,
   "id": "08b9df47",
   "metadata": {},
   "outputs": [],
   "source": [
    "query = stream_df_txn.groupBy(\"ROUND\").count()"
   ]
  },
  {
   "cell_type": "code",
   "execution_count": 7,
   "id": "8cb801b8",
   "metadata": {},
   "outputs": [
    {
     "name": "stdout",
     "output_type": "stream",
     "text": [
      "root\n",
      " |-- ROUND: string (nullable = true)\n",
      " |-- count: long (nullable = false)\n",
      "\n"
     ]
    }
   ],
   "source": [
    "query.printSchema()"
   ]
  },
  {
   "cell_type": "code",
   "execution_count": 8,
   "id": "9bc6ceb9",
   "metadata": {},
   "outputs": [
    {
     "name": "stderr",
     "output_type": "stream",
     "text": [
      "22/05/23 16:29:53 WARN ResolveWriteToStream: Temporary checkpoint location created which is deleted normally when the query didn't fail: /tmp/temporary-6840e974-53c5-4001-a77e-ec8c123ab0c1. If it's required to delete it under any circumstances, please set spark.sql.streaming.forceDeleteTempCheckpointLocation to true. Important to know deleting temp checkpoint folder is best effort.\n",
      "22/05/23 16:29:53 WARN ResolveWriteToStream: spark.sql.adaptive.enabled is not supported in streaming DataFrames/Datasets and will be disabled.\n"
     ]
    },
    {
     "data": {
      "text/plain": [
       "<pyspark.sql.streaming.StreamingQuery at 0x7fa918750b50>"
      ]
     },
     "execution_count": 8,
     "metadata": {},
     "output_type": "execute_result"
    },
    {
     "name": "stderr",
     "output_type": "stream",
     "text": [
      "[Stage 15:======================================>               (142 + 4) / 200]\r"
     ]
    }
   ],
   "source": [
    "query.writeStream.format(\"console\").outputMode(\"update\").start() "
   ]
  },
  {
   "cell_type": "code",
   "execution_count": null,
   "id": "7eff0a6d",
   "metadata": {},
   "outputs": [],
   "source": []
  },
  {
   "cell_type": "code",
   "execution_count": null,
   "id": "a3b9db47",
   "metadata": {},
   "outputs": [],
   "source": []
  },
  {
   "cell_type": "code",
   "execution_count": null,
   "id": "d19f75be",
   "metadata": {},
   "outputs": [],
   "source": [
    "query_stream.stop()"
   ]
  },
  {
   "cell_type": "code",
   "execution_count": null,
   "id": "68609151",
   "metadata": {},
   "outputs": [],
   "source": []
  }
 ],
 "metadata": {
  "kernelspec": {
   "display_name": "Python 3 (ipykernel)",
   "language": "python",
   "name": "python3"
  },
  "language_info": {
   "codemirror_mode": {
    "name": "ipython",
    "version": 3
   },
   "file_extension": ".py",
   "mimetype": "text/x-python",
   "name": "python",
   "nbconvert_exporter": "python",
   "pygments_lexer": "ipython3",
   "version": "3.8.10"
  }
 },
 "nbformat": 4,
 "nbformat_minor": 5
}
