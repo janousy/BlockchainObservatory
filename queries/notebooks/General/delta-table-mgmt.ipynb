{
 "cells": [
  {
   "cell_type": "code",
   "execution_count": null,
   "id": "5a697917",
   "metadata": {},
   "outputs": [],
   "source": [
    "pip install delta-spark"
   ]
  },
  {
   "cell_type": "code",
   "execution_count": null,
   "id": "518291c5",
   "metadata": {},
   "outputs": [],
   "source": [
    "pip install sparksql-magic"
   ]
  },
  {
   "cell_type": "code",
   "execution_count": 1,
   "id": "77ec85e3-5594-4c66-874e-235319efff82",
   "metadata": {},
   "outputs": [],
   "source": [
    "%load_ext sparksql_magic"
   ]
  },
  {
   "cell_type": "code",
   "execution_count": null,
   "id": "b3b1d26e",
   "metadata": {},
   "outputs": [],
   "source": [
    "spark.stop()"
   ]
  },
  {
   "cell_type": "code",
   "execution_count": 2,
   "id": "246ee654",
   "metadata": {},
   "outputs": [],
   "source": [
    "from pyspark.sql.types import  *\n",
    "from pyspark.sql.functions import *\n",
    "from pyspark.sql import SparkSession\n",
    "from datetime import datetime, date\n",
    "from pyspark.sql import Row\n",
    "from delta import *\n",
    "from delta.tables import *\n",
    "import pyspark\n",
    "import tabulate"
   ]
  },
  {
   "cell_type": "code",
   "execution_count": 3,
   "id": "d6b92d83-7cdf-404e-8a89-42da6e0fb4ce",
   "metadata": {},
   "outputs": [],
   "source": [
    "config = pyspark.SparkConf().setAll([\n",
    "    ('spark.executor.memory', '4g'), \n",
    "    ('spark.executor.cores', '2'), \n",
    "    ('spark.cores.max', '6'),\n",
    "    ('spark.driver.memory','1g'),\n",
    "    ('spark.executor.instances', '1'),\n",
    "    ('spark.dynamicAllocation.enabled', 'true'),\n",
    "    ('spark.dynamicAllocation.shuffleTracking.enabled', 'true'),\n",
    "    ('spark.dynamicAllocation.executorIdleTimeout', '60s'),\n",
    "    ('spark.dynamicAllocation.minExecutors', '0'),\n",
    "    ('spark.dynamicAllocation.maxExecutors', '2'),\n",
    "    ('spark.dynamicAllocation.initialExecutors', '1'),\n",
    "    ('spark.dynamicAllocation.executorAllocationRatio', '1'),\n",
    "    ('spark.sql.repl.eagerEval.enabled', 'true'),\n",
    "    ('spark.databricks.delta.retentionDurationCheck.enabled', 'false')\n",
    "])"
   ]
  },
  {
   "cell_type": "code",
   "execution_count": 4,
   "id": "27b42f5a",
   "metadata": {},
   "outputs": [
    {
     "name": "stderr",
     "output_type": "stream",
     "text": [
      "22/06/04 20:10:36 WARN Utils: Your hostname, algorand-druid-and-spark resolves to a loopback address: 127.0.0.1; using 172.23.149.212 instead (on interface ens3)\n",
      "22/06/04 20:10:36 WARN Utils: Set SPARK_LOCAL_IP if you need to bind to another address\n",
      "WARNING: An illegal reflective access operation has occurred\n",
      "WARNING: Illegal reflective access by org.apache.spark.unsafe.Platform (file:/home/ubuntu/.local/lib/python3.8/site-packages/pyspark/jars/spark-unsafe_2.12-3.2.1.jar) to constructor java.nio.DirectByteBuffer(long,int)\n",
      "WARNING: Please consider reporting this to the maintainers of org.apache.spark.unsafe.Platform\n",
      "WARNING: Use --illegal-access=warn to enable warnings of further illegal reflective access operations\n",
      "WARNING: All illegal access operations will be denied in a future release\n"
     ]
    },
    {
     "name": "stdout",
     "output_type": "stream",
     "text": [
      ":: loading settings :: url = jar:file:/home/ubuntu/.local/lib/python3.8/site-packages/pyspark/jars/ivy-2.5.0.jar!/org/apache/ivy/core/settings/ivysettings.xml\n"
     ]
    },
    {
     "name": "stderr",
     "output_type": "stream",
     "text": [
      "Ivy Default Cache set to: /home/ubuntu/.ivy2/cache\n",
      "The jars for the packages stored in: /home/ubuntu/.ivy2/jars\n",
      "io.delta#delta-core_2.12 added as a dependency\n",
      ":: resolving dependencies :: org.apache.spark#spark-submit-parent-52e79470-bb95-4843-b12f-2268c0a8025f;1.0\n",
      "\tconfs: [default]\n",
      "\tfound io.delta#delta-core_2.12;1.1.0 in central\n",
      "\tfound org.antlr#antlr4-runtime;4.8 in central\n",
      "\tfound org.codehaus.jackson#jackson-core-asl;1.9.13 in central\n",
      ":: resolution report :: resolve 185ms :: artifacts dl 5ms\n",
      "\t:: modules in use:\n",
      "\tio.delta#delta-core_2.12;1.1.0 from central in [default]\n",
      "\torg.antlr#antlr4-runtime;4.8 from central in [default]\n",
      "\torg.codehaus.jackson#jackson-core-asl;1.9.13 from central in [default]\n",
      "\t---------------------------------------------------------------------\n",
      "\t|                  |            modules            ||   artifacts   |\n",
      "\t|       conf       | number| search|dwnlded|evicted|| number|dwnlded|\n",
      "\t---------------------------------------------------------------------\n",
      "\t|      default     |   3   |   0   |   0   |   0   ||   3   |   0   |\n",
      "\t---------------------------------------------------------------------\n",
      ":: retrieving :: org.apache.spark#spark-submit-parent-52e79470-bb95-4843-b12f-2268c0a8025f\n",
      "\tconfs: [default]\n",
      "\t0 artifacts copied, 3 already retrieved (0kB/5ms)\n",
      "22/06/04 20:10:37 WARN NativeCodeLoader: Unable to load native-hadoop library for your platform... using builtin-java classes where applicable\n",
      "Using Spark's default log4j profile: org/apache/spark/log4j-defaults.properties\n",
      "Setting default log level to \"WARN\".\n",
      "To adjust logging level use sc.setLogLevel(newLevel). For SparkR, use setLogLevel(newLevel).\n",
      "22/06/04 20:10:38 WARN Utils: Service 'SparkUI' could not bind on port 4040. Attempting port 4041.\n",
      "22/06/04 20:10:39 WARN ExecutorAllocationManager: Dynamic allocation without a shuffle service is an experimental feature.\n"
     ]
    }
   ],
   "source": [
    "builder = pyspark.sql.SparkSession.builder \\\n",
    "    .appName(\"Delta-TABLE-MGMT\") \\\n",
    "    .master(\"spark://172.23.149.212:7077\") \\\n",
    "    .config(conf=config) \\\n",
    "    .config(\"spark.jars.packages\", \"io.delta:delta-core_2.12:1.2.0\") \\\n",
    "    .config(\"spark.sql.extensions\", \"io.delta.sql.DeltaSparkSessionExtension\") \\\n",
    "    .config(\"spark.sql.catalog.spark_catalog\", \"org.apache.spark.sql.delta.catalog.DeltaCatalog\")\n",
    "\n",
    "spark = configure_spark_with_delta_pip(builder).getOrCreate()"
   ]
  },
  {
   "cell_type": "code",
   "execution_count": null,
   "id": "71834561",
   "metadata": {},
   "outputs": [],
   "source": [
    "# table names\n",
    "# delta.`/mnt/delta/bronze/algod.indexer.public.account.test`\n",
    "# delta.`/mnt/delta/bronze/algod.indexer.public.account`\n",
    "# delta.`/mnt/delta/bronze/algod_indexer_public_txn_flat`"
   ]
  },
  {
   "cell_type": "code",
   "execution_count": null,
   "id": "204500a9",
   "metadata": {},
   "outputs": [],
   "source": []
  },
  {
   "cell_type": "code",
   "execution_count": null,
   "id": "f68af2a1",
   "metadata": {},
   "outputs": [],
   "source": [
    "%%sparksql\n",
    "SELECT max(round) FROM delta.`/mnt/delta/bronze/algod_indexer_public_block_header_flat`"
   ]
  },
  {
   "cell_type": "code",
   "execution_count": null,
   "id": "f522abcb",
   "metadata": {},
   "outputs": [],
   "source": [
    "%%sparksql\n",
    "SELECT round FROM delta.`/mnt/delta/bronze/algod_indexer_public_block_header_flat` LIMIT 10"
   ]
  },
  {
   "cell_type": "code",
   "execution_count": null,
   "id": "e0bee1c2",
   "metadata": {},
   "outputs": [],
   "source": [
    "%%sparksql\n",
    "SELECT \"round\", count(\"realtime\") FROM delta.`/mnt/delta/bronze/algod_indexer_public_block_header_flat` GROUP BY ROUND HAVING COUNT(\"realtime\") "
   ]
  },
  {
   "cell_type": "code",
   "execution_count": null,
   "id": "1f03029c",
   "metadata": {},
   "outputs": [],
   "source": [
    "%%sparksql\n",
    "SHOW TBLPROPERTIES delta.`/mnt/delta/bronze/algod_indexer_public_asset_flat` ('delta.logRetentionDuration');"
   ]
  },
  {
   "cell_type": "code",
   "execution_count": null,
   "id": "ddb9b2ac",
   "metadata": {},
   "outputs": [],
   "source": [
    "%%sparksql\n",
    "SHOW TBLPROPERTIES delta.`/mnt/delta/bronze/algod_indexer_public_asset_flat`;"
   ]
  },
  {
   "cell_type": "code",
   "execution_count": null,
   "id": "92547877",
   "metadata": {},
   "outputs": [],
   "source": [
    "%%sparksql\n",
    "ALTER TABLE delta.`/mnt/delta/bronze/algod_indexer_public_asset_flat` SET TBLPROPERTIES ('delta.logRetentionDuration'='interval 24 hours', 'delta.deletedFileRetentionDuration'='interval 1 hours')"
   ]
  },
  {
   "cell_type": "code",
   "execution_count": null,
   "id": "30ba27fd",
   "metadata": {},
   "outputs": [],
   "source": [
    "%%sparksql\n",
    "VACUUM delta.`/mnt/delta/bronze/algod_indexer_public_asset_flat` RETAIN 1 HOURS"
   ]
  },
  {
   "cell_type": "code",
   "execution_count": null,
   "id": "d76fe1f1-e1eb-4feb-b574-f3c6b43f8ead",
   "metadata": {},
   "outputs": [],
   "source": [
    "from delta.tables import *\n",
    "\n",
    "deltaTable = DeltaTable.forPath(spark, \"/mnt/delta/bronze/algod_indexer_public_asset_flat\")\n",
    "\n",
    "fullHistoryDF = deltaTable.history()   # get the full history of the table"
   ]
  },
  {
   "cell_type": "code",
   "execution_count": null,
   "id": "e6e220e9",
   "metadata": {},
   "outputs": [],
   "source": []
  },
  {
   "cell_type": "code",
   "execution_count": null,
   "id": "082b69fe",
   "metadata": {},
   "outputs": [],
   "source": [
    "deltaTable.vacuum(1)"
   ]
  },
  {
   "cell_type": "code",
   "execution_count": null,
   "id": "fe0cd076",
   "metadata": {},
   "outputs": [],
   "source": [
    "%%sparksql\n",
    "DESCRIBE DETAIL delta.`/mnt/delta/bronze/algod_indexer_public_txn_flat`"
   ]
  },
  {
   "cell_type": "code",
   "execution_count": null,
   "id": "069e7821",
   "metadata": {},
   "outputs": [],
   "source": [
    "%%sparksql\n",
    "OPTIMIZE \"/mnt/delta/bronze/algod_indexer_public_txn_flat\""
   ]
  },
  {
   "cell_type": "code",
   "execution_count": null,
   "id": "eae82f96",
   "metadata": {},
   "outputs": [],
   "source": [
    "%%sparksql\n",
    "CREATE TABLE default.people10m USING DELTA LOCATION '/mnt/delta/bronze/people-10m'"
   ]
  },
  {
   "cell_type": "code",
   "execution_count": null,
   "id": "ad940b50",
   "metadata": {},
   "outputs": [],
   "source": []
  }
 ],
 "metadata": {
  "kernelspec": {
   "display_name": "Python 3 (ipykernel)",
   "language": "python",
   "name": "python3"
  },
  "language_info": {
   "codemirror_mode": {
    "name": "ipython",
    "version": 3
   },
   "file_extension": ".py",
   "mimetype": "text/x-python",
   "name": "python",
   "nbconvert_exporter": "python",
   "pygments_lexer": "ipython3",
   "version": "3.8.10"
  }
 },
 "nbformat": 4,
 "nbformat_minor": 5
}
