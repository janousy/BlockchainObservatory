{
 "cells": [
  {
   "cell_type": "code",
   "execution_count": null,
   "id": "969200b3",
   "metadata": {},
   "outputs": [],
   "source": [
    "from pyspark.sql.types import  *\n",
    "from pyspark.sql.functions import *\n",
    "from pyspark.sql import SparkSession\n",
    "from datetime import datetime, date\n",
    "from pyspark.sql import Row\n",
    "from delta import *\n",
    "from delta.tables import *\n",
    "import pyspark\n",
    "import tabulate\n",
    "from pyspark.sql.types import StructType,StructField, StringType, IntegerType"
   ]
  },
  {
   "cell_type": "code",
   "execution_count": null,
   "id": "37bfeb5a",
   "metadata": {},
   "outputs": [],
   "source": [
    "spark.stop()"
   ]
  },
  {
   "cell_type": "code",
   "execution_count": null,
   "id": "9dd71684",
   "metadata": {},
   "outputs": [],
   "source": [
    "config = pyspark.SparkConf().setAll([\n",
    "    ('spark.executor.memory', '16g'), \n",
    "    ('spark.executor.cores', '9'), \n",
    "    ('spark.cores.max', '9'),\n",
    "    ('spark.driver.memory','32g'),\n",
    "    ('spark.executor.instances', '5'),\n",
    "    ('spark.dynamicAllocation.enabled', 'true'),\n",
    "    ('spark.dynamicAllocation.shuffleTracking.enabled', 'true'),\n",
    "    ('spark.dynamicAllocation.executorIdleTimeout', '60s'),\n",
    "    ('spark.dynamicAllocation.minExecutors', '0'),\n",
    "    ('spark.dynamicAllocation.maxExecutors', '5'),\n",
    "    ('spark.dynamicAllocation.initialExecutors', '1'),\n",
    "    ('spark.dynamicAllocation.executorAllocationRatio', '1'),\n",
    "    ('spark.sql.repl.eagerEval.enabled', 'true'),\n",
    "    ('spark.databricks.delta.retentionDurationCheck.enabled', 'false'),\n",
    "    ('spark.jars.packages', 'org.mongodb.spark:mongo-spark-connector:10.0.2')\n",
    "])"
   ]
  },
  {
   "cell_type": "code",
   "execution_count": null,
   "id": "58904eae",
   "metadata": {},
   "outputs": [],
   "source": [
    "spark = SparkSession \\\n",
    "    .builder \\\n",
    "\t.config(conf=config) \\\n",
    "    .appName(\"MongoDB-Test\") \\\n",
    "    .master(\"spark://172.23.149.212:7077\") \\\n",
    "    .getOrCreate()"
   ]
  },
  {
   "cell_type": "code",
   "execution_count": null,
   "id": "028222ad",
   "metadata": {},
   "outputs": [],
   "source": [
    "schema = StructType([ \\\n",
    "    StructField(\"_id\", StringType(), True), \\\n",
    "    StructField(\"asset\", LongType(), True), \\\n",
    "    StructField(\"extra\", StringType(), True), \\\n",
    "    StructField(\"intra\", LongType(), True), \\\n",
    "    StructField(\"round\", LongType(), True), \\\n",
    "    StructField(\"rr\", LongType(), True), \\\n",
    "    StructField(\"sig\", StringType(), True), \\\n",
    "    StructField(\"txid\", StringType(), True), \\\n",
    "    StructField(\"txn_aamt\", LongType(), True), \\\n",
    "    StructField(\"txn_aclose\", StringType(), True), \\\n",
    "    StructField(\"txn_afrz\", BooleanType(), True), \\\n",
    "    StructField(\"txn_amt\", LongType(), True), \\\n",
    "    StructField(\"txn_apaa\", StringType(), True), \\\n",
    "    StructField(\"txn_apan\", LongType(), True), \\\n",
    "    StructField(\"txn_apap\", StringType(), True), \\\n",
    "    StructField(\"txn_apar\", StringType(), True), \\\n",
    "    StructField(\"txn_apas\", StringType(), True), \\\n",
    "    StructField(\"txn_apat\", StringType(), True), \\\n",
    "    StructField(\"txn_apep\", StringType(), True), \\\n",
    "    StructField(\"txn_apfa\", StringType(), True), \\\n",
    "    StructField(\"txn_apgs\", StringType(), True), \\\n",
    "    StructField(\"txn_apid\", LongType(), True), \\\n",
    "    StructField(\"txn_apls\", StringType(), True), \\\n",
    "    StructField(\"txn_apsu\", StringType(), True), \\\n",
    "    StructField(\"txn_arcv\", StringType(), True), \\\n",
    "    StructField(\"txn_asnd\", StringType(), True), \\\n",
    "    StructField(\"txn_caid\", LongType(), True), \\\n",
    "    StructField(\"txn_close\", StringType(), True), \\\n",
    "    StructField(\"txn_fadd\", StringType(), True), \\\n",
    "    StructField(\"txn_faid\", LongType(), True), \\\n",
    "    StructField(\"txn_fee\", LongType(), True), \\\n",
    "    StructField(\"txn_fv\", LongType(), True), \\\n",
    "    StructField(\"txn_gen\", StringType(), True), \\\n",
    "    StructField(\"txn_gh\", StringType(), True), \\\n",
    "    StructField(\"txn_grp\", StringType(), True), \\\n",
    "    StructField(\"txn_lsig\", StringType(), True), \\\n",
    "    StructField(\"txn_lv\", LongType(), True), \\\n",
    "    StructField(\"txn_lx\", StringType(), True), \\\n",
    "    StructField(\"txn_msig\", StringType(), True), \\\n",
    "    StructField(\"txn_nonpart\", BooleanType(), True), \\\n",
    "    StructField(\"txn_note\", StringType(), True), \\\n",
    "    StructField(\"txn_rcv\", StringType(), True), \\\n",
    "    StructField(\"txn_rekey\", StringType(), True), \\\n",
    "    StructField(\"txn_selkey\", StringType(), True), \\\n",
    "    StructField(\"txn_sig\", StringType(), True), \\\n",
    "    StructField(\"txn_snd\", StringType(), True), \\\n",
    "    StructField(\"txn_type\", StringType(), True), \\\n",
    "    StructField(\"txn_votefst\", LongType(), True), \\\n",
    "    StructField(\"txn_votekd\", LongType(), True), \\\n",
    "    StructField(\"txn_votekey\", StringType(), True), \\\n",
    "    StructField(\"txn_votelst\", LongType(), True), \\\n",
    "    StructField(\"txn_xaid\", LongType(), True), \\\n",
    "    StructField(\"typeenum\", LongType(), True) \\\n",
    "])"
   ]
  },
  {
   "cell_type": "code",
   "execution_count": null,
   "id": "28411d2d",
   "metadata": {},
   "outputs": [],
   "source": [
    "df = spark.read.format(\"mongodb\") \\\n",
    "\t.option('spark.mongodb.connection.uri', 'mongodb://172.23.149.212:27017') \\\n",
    "  \t.option('spark.mongodb.database', 'algorand') \\\n",
    "  \t.option('spark.mongodb.collection', 'txn') \\\n",
    "\t.option('spark.mongodb.read.readPreference.name', 'primaryPreferred') \\\n",
    "\t.option('spark.mongodb.change.stream.publish.full.document.only','true') \\\n",
    "  \t.option(\"forceDeleteTempCheckpointLocation\", \"true\") \\\n",
    "    .option(\"spark.mongodb.read.sampleSize\", 1000) \\\n",
    "    .schema(schema) \\\n",
    "  \t.load()"
   ]
  },
  {
   "cell_type": "code",
   "execution_count": null,
   "id": "b6a0d10d",
   "metadata": {},
   "outputs": [],
   "source": [
    "df.printSchema()"
   ]
  },
  {
   "cell_type": "code",
   "execution_count": null,
   "id": "ea353f5a",
   "metadata": {},
   "outputs": [],
   "source": [
    "df.count()"
   ]
  },
  {
   "cell_type": "code",
   "execution_count": null,
   "id": "02999a5a",
   "metadata": {},
   "outputs": [],
   "source": [
    "result = df.select(\"index\", \"created_at\")"
   ]
  },
  {
   "cell_type": "code",
   "execution_count": null,
   "id": "7aba2e6c",
   "metadata": {},
   "outputs": [],
   "source": [
    "result.printSchema()"
   ]
  },
  {
   "cell_type": "code",
   "execution_count": null,
   "id": "a002f205",
   "metadata": {},
   "outputs": [],
   "source": [
    "result.show()"
   ]
  },
  {
   "cell_type": "code",
   "execution_count": null,
   "id": "fb17c15a",
   "metadata": {},
   "outputs": [],
   "source": [
    "result.write.format(\"mongodb\") \\\n",
    "\t.option('spark.mongodb.connection.uri', 'mongodb://172.23.149.212:27017') \\\n",
    "  \t.mode(\"overwrite\") \\\n",
    "    .option('spark.mongodb.database', 'algorand_silver') \\\n",
    "  \t.option('spark.mongodb.collection', 'test') \\\n",
    "  \t.option(\"forceDeleteTempCheckpointLocation\", \"true\") \\\n",
    "  \t.save()"
   ]
  },
  {
   "cell_type": "code",
   "execution_count": null,
   "id": "956a76d6",
   "metadata": {},
   "outputs": [],
   "source": []
  }
 ],
 "metadata": {
  "kernelspec": {
   "display_name": "Python 3 (ipykernel)",
   "language": "python",
   "name": "python3"
  },
  "language_info": {
   "codemirror_mode": {
    "name": "ipython",
    "version": 3
   },
   "file_extension": ".py",
   "mimetype": "text/x-python",
   "name": "python",
   "nbconvert_exporter": "python",
   "pygments_lexer": "ipython3",
   "version": "3.8.10"
  }
 },
 "nbformat": 4,
 "nbformat_minor": 5
}
