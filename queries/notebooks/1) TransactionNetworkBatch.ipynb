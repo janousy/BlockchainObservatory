{
 "cells": [
  {
   "cell_type": "code",
   "execution_count": 26,
   "id": "6c428647",
   "metadata": {},
   "outputs": [],
   "source": [
    "spark.stop()"
   ]
  },
  {
   "cell_type": "markdown",
   "id": "a7595b33",
   "metadata": {},
   "source": [
    "# General Imports and Spark Config"
   ]
  },
  {
   "cell_type": "code",
   "execution_count": 27,
   "id": "3cef39fe",
   "metadata": {},
   "outputs": [],
   "source": [
    "import pyspark\n",
    "from pyspark.sql import SparkSession\n",
    "from graphframes import *\n",
    "from delta import *\n",
    "from delta.tables import *\n",
    "\n",
    "import pyspark.sql.functions as fn\n",
    "from pyspark.sql.types import StructField, StringType, LongType, DoubleType, BooleanType, StructType"
   ]
  },
  {
   "cell_type": "code",
   "execution_count": 28,
   "id": "53a449f1",
   "metadata": {},
   "outputs": [],
   "source": [
    "config = pyspark.SparkConf().setAll([\n",
    "    ('spark.executor.memory', '32g'), \n",
    "    ('spark.executor.cores', '6'), \n",
    "    ('spark.cores.max', '24'),\n",
    "    ('spark.driver.memory','8g'),\n",
    "    ('spark.executor.instances', '1'),\n",
    "    ('spark.dynamicAllocation.enabled', 'true'),\n",
    "    ('spark.dynamicAllocation.shuffleTracking.enabled', 'true'),\n",
    "    ('spark.dynamicAllocation.executorIdleTimeout', '60s'),\n",
    "    ('spark.dynamicAllocation.minExecutors', '1'),\n",
    "    ('spark.dynamicAllocation.maxExecutors', '4'),\n",
    "    ('spark.dynamicAllocation.initialExecutors', '1'),\n",
    "    ('spark.dynamicAllocation.executorAllocationRatio', '1'),\n",
    "    ('spark.worker.cleanup.enabled', 'true'),\n",
    "    ('spark.worker.cleanup.interval', '60'),\n",
    "    ('spark.shuffle.service.db.enabled', 'true'),\n",
    "    ('spark.worker.cleanup.appDataTtl', '60'),\n",
    "    ('spark.jars.packages', 'org.mongodb.spark:mongo-spark-connector:10.0.2')\n",
    "])"
   ]
  },
  {
   "cell_type": "markdown",
   "id": "5df9b8b4",
   "metadata": {},
   "source": [
    "Important: In neo4j there is a naming convention, node labels should use camelcase (beginning with uppercase) and relationship labels should use all uppercase with _"
   ]
  },
  {
   "cell_type": "markdown",
   "id": "c919598c",
   "metadata": {},
   "source": [
    "# Create Spark Session"
   ]
  },
  {
   "cell_type": "code",
   "execution_count": 29,
   "id": "6a212c9b",
   "metadata": {},
   "outputs": [
    {
     "name": "stdout",
     "output_type": "stream",
     "text": [
      "86950198 [Thread-4] WARN  org.apache.spark.util.Utils  - Service 'SparkUI' could not bind on port 4040. Attempting port 4041.\n",
      "86950199 [Thread-4] WARN  org.apache.spark.util.Utils  - Service 'SparkUI' could not bind on port 4041. Attempting port 4042.\n",
      "86950347 [Thread-4] WARN  org.apache.spark.ExecutorAllocationManager  - Dynamic allocation without a shuffle service is an experimental feature.\n"
     ]
    }
   ],
   "source": [
    "spark = SparkSession \\\n",
    "    .builder \\\n",
    "    .config(conf=config) \\\n",
    "    .appName(\"TransactionNetworkNeo4jBatch\") \\\n",
    "    .master(\"spark://172.23.149.212:7077\") \\\n",
    "    .getOrCreate()"
   ]
  },
  {
   "cell_type": "markdown",
   "id": "8197e038",
   "metadata": {},
   "source": [
    "Define the schema manually to guarantee that no voids are used in schema"
   ]
  },
  {
   "cell_type": "code",
   "execution_count": 30,
   "id": "9a9b44e7",
   "metadata": {},
   "outputs": [],
   "source": [
    "schema = StructType([ \\\n",
    "    StructField(\"_id\", StringType(), True), \\\n",
    "    StructField(\"asset\", LongType(), True), \\\n",
    "    StructField(\"extra\", StringType(), True), \\\n",
    "    StructField(\"intra\", LongType(), True), \\\n",
    "    StructField(\"round\", LongType(), True), \\\n",
    "    StructField(\"rr\", LongType(), True), \\\n",
    "    StructField(\"sig\", StringType(), True), \\\n",
    "    StructField(\"txid\", StringType(), True), \\\n",
    "    StructField(\"txn_aamt\", LongType(), True), \\\n",
    "    StructField(\"txn_aclose\", StringType(), True), \\\n",
    "    StructField(\"txn_afrz\", BooleanType(), True), \\\n",
    "    StructField(\"txn_amt\", LongType(), True), \\\n",
    "    StructField(\"txn_apaa\", StringType(), True), \\\n",
    "    StructField(\"txn_apan\", LongType(), True), \\\n",
    "    StructField(\"txn_apap\", StringType(), True), \\\n",
    "    StructField(\"txn_apar\", StringType(), True), \\\n",
    "    StructField(\"txn_apas\", StringType(), True), \\\n",
    "    StructField(\"txn_apat\", StringType(), True), \\\n",
    "    StructField(\"txn_apep\", StringType(), True), \\\n",
    "    StructField(\"txn_apfa\", StringType(), True), \\\n",
    "    StructField(\"txn_apgs\", StringType(), True), \\\n",
    "    StructField(\"txn_apid\", LongType(), True), \\\n",
    "    StructField(\"txn_apls\", StringType(), True), \\\n",
    "    StructField(\"txn_apsu\", StringType(), True), \\\n",
    "    StructField(\"txn_arcv\", StringType(), True), \\\n",
    "    StructField(\"txn_asnd\", StringType(), True), \\\n",
    "    StructField(\"txn_caid\", LongType(), True), \\\n",
    "    StructField(\"txn_close\", StringType(), True), \\\n",
    "    StructField(\"txn_fadd\", StringType(), True), \\\n",
    "    StructField(\"txn_faid\", LongType(), True), \\\n",
    "    StructField(\"txn_fee\", LongType(), True), \\\n",
    "    StructField(\"txn_fv\", LongType(), True), \\\n",
    "    StructField(\"txn_gen\", StringType(), True), \\\n",
    "    StructField(\"txn_gh\", StringType(), True), \\\n",
    "    StructField(\"txn_grp\", StringType(), True), \\\n",
    "    StructField(\"txn_lsig\", StringType(), True), \\\n",
    "    StructField(\"txn_lv\", LongType(), True), \\\n",
    "    StructField(\"txn_lx\", StringType(), True), \\\n",
    "    StructField(\"txn_msig\", StringType(), True), \\\n",
    "    StructField(\"txn_nonpart\", BooleanType(), True), \\\n",
    "    StructField(\"txn_note\", StringType(), True), \\\n",
    "    StructField(\"txn_rcv\", StringType(), True), \\\n",
    "    StructField(\"txn_rekey\", StringType(), True), \\\n",
    "    StructField(\"txn_selkey\", StringType(), True), \\\n",
    "    StructField(\"txn_sig\", StringType(), True), \\\n",
    "    StructField(\"txn_snd\", StringType(), True), \\\n",
    "    StructField(\"txn_type\", StringType(), True), \\\n",
    "    StructField(\"txn_votefst\", LongType(), True), \\\n",
    "    StructField(\"txn_votekd\", LongType(), True), \\\n",
    "    StructField(\"txn_votekey\", StringType(), True), \\\n",
    "    StructField(\"txn_votelst\", LongType(), True), \\\n",
    "    StructField(\"txn_xaid\", LongType(), True), \\\n",
    "    StructField(\"typeenum\", LongType(), True) \\\n",
    "])"
   ]
  },
  {
   "cell_type": "code",
   "execution_count": 31,
   "id": "b6fd635e",
   "metadata": {},
   "outputs": [],
   "source": [
    "dfTxn = spark.read.format(\"mongodb\") \\\n",
    "    .option('spark.mongodb.connection.uri', 'mongodb://172.23.149.212:27017') \\\n",
    "    .option('spark.mongodb.database', 'algorand') \\\n",
    "    .option('spark.mongodb.collection', 'txn') \\\n",
    "    .option('park.mongodb.read.readPreference.name', 'primaryPreferred') \\\n",
    "    .option('spark.mongodb.change.stream.publish.full.document.only','true') \\\n",
    "    .option(\"forceDeleteTempCheckpointLocation\", \"true\") \\\n",
    "    .schema(schema) \\\n",
    "    .load()"
   ]
  },
  {
   "cell_type": "code",
   "execution_count": null,
   "id": "cb04609e",
   "metadata": {},
   "outputs": [],
   "source": [
    "# coalesce is used to decrease the number of partitions to the number specified\n",
    "# dfTxn = df.coalesce(18)"
   ]
  },
  {
   "cell_type": "code",
   "execution_count": null,
   "id": "402edfc9",
   "metadata": {},
   "outputs": [],
   "source": [
    "# print(dfTxn.rdd.getNumPartitions())"
   ]
  },
  {
   "cell_type": "markdown",
   "id": "e27a4bfa",
   "metadata": {},
   "source": [
    "# Payment transactions and nodes"
   ]
  },
  {
   "cell_type": "markdown",
   "id": "f06ebe02",
   "metadata": {},
   "source": [
    "#### Preparation of data"
   ]
  },
  {
   "cell_type": "markdown",
   "id": "9e154c11",
   "metadata": {},
   "source": [
    "Prepare the edges/relationship dataframe"
   ]
  },
  {
   "cell_type": "code",
   "execution_count": null,
   "id": "84b3d48f",
   "metadata": {},
   "outputs": [],
   "source": [
    "dfPaymentTx = dfTxn.filter(dfTxn.typeenum == 1) \\\n",
    "                    .select(dfTxn.txid, \\\n",
    "                            dfTxn.txn_snd, \\\n",
    "                            dfTxn.txn_rcv, \\\n",
    "                            dfTxn.txn_amt, \\\n",
    "                            dfTxn.txn_fee, \\\n",
    "                            dfTxn.round, \\\n",
    "                            dfTxn.intra, \\\n",
    "                            dfTxn.txn_close)"
   ]
  },
  {
   "cell_type": "markdown",
   "id": "fa66166d",
   "metadata": {},
   "source": [
    "#### Create dataframes and write data to Neo4j"
   ]
  },
  {
   "cell_type": "markdown",
   "id": "88e64500",
   "metadata": {},
   "source": [
    "Create the accounts dataframe containing the payment tx sender and receiver"
   ]
  },
  {
   "cell_type": "code",
   "execution_count": null,
   "id": "d950be65",
   "metadata": {},
   "outputs": [],
   "source": [
    "dfTxnSender = dfPaymentTx.select(dfPaymentTx.txn_snd.alias(\"account\"))\n",
    "dfTxnReceiver = dfPaymentTx.select(dfPaymentTx.txn_rcv.alias(\"account\"))\n",
    "dfPaymentAccounts = dfTxnSender.union(dfTxnReceiver).distinct()"
   ]
  },
  {
   "cell_type": "markdown",
   "id": "4caa14ba",
   "metadata": {},
   "source": [
    "Write the accounts to neo4j"
   ]
  },
  {
   "cell_type": "code",
   "execution_count": null,
   "id": "306ec254",
   "metadata": {},
   "outputs": [],
   "source": [
    "dfPaymentAccounts.write.format(\"org.neo4j.spark.DataSource\") \\\n",
    "  .mode(\"Overwrite\") \\\n",
    "  .option(\"url\", \"bolt://172.23.149.212:7687\") \\\n",
    "  .option(\"labels\", \":Account\") \\\n",
    "  .option(\"node.keys\", \"account\") \\\n",
    "  .save()"
   ]
  },
  {
   "cell_type": "markdown",
   "id": "7837fba5",
   "metadata": {},
   "source": [
    "Write the transactions between the accounts to Neo4j"
   ]
  },
  {
   "cell_type": "code",
   "execution_count": null,
   "id": "8457b021",
   "metadata": {},
   "outputs": [],
   "source": [
    "dfPaymentTx.write.format(\"org.neo4j.spark.DataSource\") \\\n",
    "  .option(\"url\", \"bolt://172.23.149.212:7687\") \\\n",
    "  .mode(\"Append\") \\\n",
    "  .option(\"relationship\", \"PAYMENT\") \\\n",
    "  .option(\"relationship.save.strategy\", \"keys\") \\\n",
    "  .option(\"relationship.source.labels\", \":Account\") \\\n",
    "  .option(\"relationship.source.save.mode\", \"Overwrite\") \\\n",
    "  .option(\"relationship.source.node.keys\", \"txn_snd:account\") \\\n",
    "  .option(\"relationship.target.labels\", \":Account\") \\\n",
    "  .option(\"relationship.target.save.mode\", \"Overwrite\") \\\n",
    "  .option(\"relationship.target.node.keys\", \"txn_rcv:account\") \\\n",
    "  .option(\"relationship.properties\", \"txn_amt:amount, txn_fee:fee, round:blockNumber, intra:intraBlockTxNumber, txid:txId, txn_close:closedSndAccountTx\") \\\n",
    "  .save()"
   ]
  },
  {
   "cell_type": "markdown",
   "id": "baab3672",
   "metadata": {},
   "source": [
    "## Keyreg transactions and nodes"
   ]
  },
  {
   "cell_type": "markdown",
   "id": "ffe93c04",
   "metadata": {},
   "source": [
    "#### Preparation of data"
   ]
  },
  {
   "cell_type": "code",
   "execution_count": null,
   "id": "cec8393e",
   "metadata": {},
   "outputs": [],
   "source": [
    "dfKeyregTx = dfTxn.filter(dfTxn.typeenum == 2) \\\n",
    "                    .select(dfTxn.txid, \\\n",
    "                            dfTxn.round, \\\n",
    "                            dfTxn.intra, \\\n",
    "                            dfTxn.txn_fee, \\\n",
    "                            dfTxn.txn_snd, \\\n",
    "                            dfTxn.txn_selkey, \\\n",
    "                            dfTxn.txn_votefst, \\\n",
    "                            dfTxn.txn_votekd, \\\n",
    "                            dfTxn.txn_votekey, \\\n",
    "                            dfTxn.txn_votelst)"
   ]
  },
  {
   "cell_type": "markdown",
   "id": "0e08f3d4",
   "metadata": {},
   "source": [
    "Add another field to the dataframe to distinguish online from offline transactions. We can distinguish them the following way:\n",
    "- If selkey, votefst, votekd, votekey and votelst, if any of this field is not null then it is an online tx\n",
    "- If the fields above are null it is an offline tx."
   ]
  },
  {
   "cell_type": "code",
   "execution_count": null,
   "id": "91cd209b",
   "metadata": {},
   "outputs": [],
   "source": [
    "from pyspark.sql.functions import when\n",
    "\n",
    "dfKeyregTx = dfKeyregTx.withColumn('keyRegistrationType', \\\n",
    "                        when(fn.col(\"txn_selkey\").isNotNull() | fn.col(\"txn_votefst\").isNotNull() |fn.col(\"txn_votekd\").isNotNull() | fn.col(\"txn_votekey\").isNotNull() | fn.col(\"txn_votelst\").isNotNull(), \"online\") \\\n",
    "                        .otherwise(\"offline\")) \\\n",
    "                        .withColumn('txn_rcv', fn.lit(0))"
   ]
  },
  {
   "cell_type": "code",
   "execution_count": null,
   "id": "9e92064c",
   "metadata": {},
   "outputs": [],
   "source": [
    "dfParticipationNodes = dfKeyregTx.select(dfKeyregTx.txn_rcv.alias(\"id\")).distinct()"
   ]
  },
  {
   "cell_type": "markdown",
   "id": "5c32911b",
   "metadata": {},
   "source": [
    "Create the participationNode in Neo4j"
   ]
  },
  {
   "cell_type": "code",
   "execution_count": null,
   "id": "f67129a4",
   "metadata": {},
   "outputs": [],
   "source": [
    "dfParticipationNodes.write.format(\"org.neo4j.spark.DataSource\") \\\n",
    "  .mode(\"Overwrite\") \\\n",
    "  .option(\"url\", \"bolt://172.23.149.212:7687\") \\\n",
    "  .option(\"labels\", \":ParticipationNode\") \\\n",
    "  .option(\"node.keys\", \"id\") \\\n",
    "  .save()"
   ]
  },
  {
   "cell_type": "markdown",
   "id": "dc9f04f2",
   "metadata": {},
   "source": [
    "#### Create dataframes and write data to Neo4j"
   ]
  },
  {
   "cell_type": "markdown",
   "id": "074bcb06",
   "metadata": {},
   "source": [
    "Select all senders of transactions to guarantee that there nodes are in there\n",
    "\n",
    "\n",
    "\n",
    "\n",
    "\n",
    "\n",
    "\n"
   ]
  },
  {
   "cell_type": "code",
   "execution_count": null,
   "id": "3da0a877",
   "metadata": {},
   "outputs": [],
   "source": [
    "dfKeyRegAccounts = dfKeyregTx.select(dfKeyregTx.txn_snd.alias(\"account\")).distinct()"
   ]
  },
  {
   "cell_type": "markdown",
   "id": "0a8f9776",
   "metadata": {},
   "source": [
    "Write all accounts that sent a transaction to Neo4j"
   ]
  },
  {
   "cell_type": "code",
   "execution_count": null,
   "id": "47e0f8fa",
   "metadata": {},
   "outputs": [],
   "source": [
    "dfKeyRegAccounts.write.format(\"org.neo4j.spark.DataSource\") \\\n",
    "  .mode(\"Overwrite\") \\\n",
    "  .option(\"url\", \"bolt://172.23.149.212:7687\") \\\n",
    "  .option(\"labels\", \":Account\") \\\n",
    "  .option(\"node.keys\", \"account\") \\\n",
    "  .save()"
   ]
  },
  {
   "cell_type": "markdown",
   "id": "64171b40",
   "metadata": {},
   "source": [
    "Write all transaction from the dfAssetConfigTx to Neo4j."
   ]
  },
  {
   "cell_type": "code",
   "execution_count": null,
   "id": "e1778ce4",
   "metadata": {},
   "outputs": [],
   "source": [
    "dfKeyregTx.write.format(\"org.neo4j.spark.DataSource\") \\\n",
    "  .option(\"url\", \"bolt://172.23.149.212:7687\") \\\n",
    "  .mode(\"Append\") \\\n",
    "  .option(\"relationship\", \"KEY_REGISTRATION\") \\\n",
    "  .option(\"relationship.save.strategy\", \"keys\") \\\n",
    "  .option(\"relationship.source.labels\", \":Account\") \\\n",
    "  .option(\"relationship.source.save.mode\", \"Overwrite\") \\\n",
    "  .option(\"relationship.source.node.keys\", \"txn_snd:account\") \\\n",
    "  .option(\"relationship.target.labels\", \":ParticipationNode\") \\\n",
    "  .option(\"relationship.properties\", \"txn_fee:fee, round:blockNumber, intra:intraBlockTxNumber, keyRegistrationType:keyRegistrationType\") \\\n",
    "  .save()"
   ]
  },
  {
   "cell_type": "markdown",
   "id": "f8efb270",
   "metadata": {},
   "source": [
    "## Asset configuration transactions and nodes"
   ]
  },
  {
   "cell_type": "markdown",
   "id": "30a1a4a2",
   "metadata": {},
   "source": [
    "#### Preparation of data"
   ]
  },
  {
   "cell_type": "markdown",
   "id": "f6a43a9f",
   "metadata": {},
   "source": [
    "An AssetConfigTx is used to create an asset, modify certain parameters of an asset, or destroy an asset."
   ]
  },
  {
   "cell_type": "code",
   "execution_count": null,
   "id": "5dd022a3",
   "metadata": {},
   "outputs": [],
   "source": [
    "dfAssetConfigTx = dfTxn.filter(dfTxn.typeenum == 3) \\\n",
    "                        .select(dfTxn.txid, \\\n",
    "                                dfTxn.round, \\\n",
    "                                dfTxn.intra, \\\n",
    "                                dfTxn.txn_fee, \\\n",
    "                                dfTxn.txn_snd, \\\n",
    "                                dfTxn.txn_caid, \\\n",
    "                                dfTxn.txn_apar, \\\n",
    "                                dfTxn.asset)"
   ]
  },
  {
   "cell_type": "markdown",
   "id": "063b2d0b",
   "metadata": {},
   "source": [
    "Add another column to the dataframe which indicates whether the transaction was a creation, configuration or a destryoment tx. We can distinguish them the following way:\n",
    "- If caid is null and apar is not null it is a creation tx\n",
    "- If caid is not null and apar is not null it is a configuration tx\n",
    "- Ic caid is not null and apar is null it is a destruction tx"
   ]
  },
  {
   "cell_type": "code",
   "execution_count": null,
   "id": "c6c4fb85",
   "metadata": {},
   "outputs": [],
   "source": [
    "from pyspark.sql.functions import when\n",
    "\n",
    "dfAssetConfigTx = dfAssetConfigTx.withColumn('configurationType', \\\n",
    "                           when(fn.col(\"txn_caid\").isNull(), \"creation\") \\\n",
    "                           .when(fn.col(\"txn_caid\").isNotNull() & fn.col(\"txn_apar\").isNotNull(), \"configuration\") \\\n",
    "                           .when(fn.col(\"txn_caid\").isNotNull() & fn.col(\"txn_apar\").isNull(), \"destruction\"))"
   ]
  },
  {
   "cell_type": "markdown",
   "id": "10325f1c",
   "metadata": {},
   "source": [
    "#### Create dataframes and write data to Neo4j"
   ]
  },
  {
   "cell_type": "markdown",
   "id": "7d61fb61",
   "metadata": {},
   "source": [
    "Select all senders of transactions to guarantee that there nodes are in there"
   ]
  },
  {
   "cell_type": "code",
   "execution_count": null,
   "id": "e222e544",
   "metadata": {},
   "outputs": [],
   "source": [
    "dfAssetAccountsConfig = dfAssetConfigTx.select(dfAssetConfigTx.txn_snd.alias(\"account\")).distinct()"
   ]
  },
  {
   "cell_type": "markdown",
   "id": "c090ed20",
   "metadata": {},
   "source": [
    "Write all accounts that sent a transaction to Neo4j"
   ]
  },
  {
   "cell_type": "code",
   "execution_count": null,
   "id": "bd074a34",
   "metadata": {},
   "outputs": [],
   "source": [
    "dfAssetAccountsConfig.write.format(\"org.neo4j.spark.DataSource\") \\\n",
    "  .mode(\"Overwrite\") \\\n",
    "  .option(\"url\", \"bolt://172.23.149.212:7687\") \\\n",
    "  .option(\"labels\", \":Account\") \\\n",
    "  .option(\"node.keys\", \"account\") \\\n",
    "  .save()"
   ]
  },
  {
   "cell_type": "markdown",
   "id": "0942f8d0",
   "metadata": {},
   "source": [
    "Select all assets id's from the dfAssetConfigTx"
   ]
  },
  {
   "cell_type": "code",
   "execution_count": null,
   "id": "327913f8",
   "metadata": {},
   "outputs": [],
   "source": [
    "dfAssets = dfAssetConfigTx.select(dfAssetConfigTx.asset.alias(\"asset\")).distinct()"
   ]
  },
  {
   "cell_type": "markdown",
   "id": "c4e7abf7",
   "metadata": {},
   "source": [
    "Write all assets as nodes to Neo4j. Should actually not add any new nodes to Neo4j as there are already the asset conf transactions"
   ]
  },
  {
   "cell_type": "code",
   "execution_count": null,
   "id": "ae71e5fd",
   "metadata": {},
   "outputs": [],
   "source": [
    "dfAssets.write.format(\"org.neo4j.spark.DataSource\") \\\n",
    "  .mode(\"Overwrite\") \\\n",
    "  .option(\"url\", \"bolt://172.23.149.212:7687\") \\\n",
    "  .option(\"labels\", \":Asset\") \\\n",
    "  .option(\"node.keys\", \"asset\") \\\n",
    "  .save()"
   ]
  },
  {
   "cell_type": "markdown",
   "id": "45773758",
   "metadata": {},
   "source": [
    "Write all asset transactions between the accounts to Neo4j"
   ]
  },
  {
   "cell_type": "code",
   "execution_count": null,
   "id": "83029bd7",
   "metadata": {},
   "outputs": [],
   "source": [
    "dfAssetConfigTx.write.format(\"org.neo4j.spark.DataSource\") \\\n",
    "  .option(\"url\", \"bolt://172.23.149.212:7687\") \\\n",
    "  .mode(\"Append\") \\\n",
    "  .option(\"relationship\", \"ASSET_CONFIGURATION\") \\\n",
    "  .option(\"relationship.save.strategy\", \"keys\") \\\n",
    "  .option(\"relationship.source.labels\", \":Account\") \\\n",
    "  .option(\"relationship.source.save.mode\", \"Overwrite\") \\\n",
    "  .option(\"relationship.source.node.keys\", \"txn_snd:account\") \\\n",
    "  .option(\"relationship.target.labels\", \":Asset\") \\\n",
    "  .option(\"relationship.target.save.mode\", \"Overwrite\") \\\n",
    "  .option(\"relationship.target.node.keys\", \"asset:asset\") \\\n",
    "  .option(\"relationship.properties\", \"txn_fee:fee, round:blockNumber, intra:intraBlockTxNumber, txid:txId, txn_caid:assetId, txn_apar:configurationParameters, configurationType:configurationType\") \\\n",
    "  .save()"
   ]
  },
  {
   "cell_type": "markdown",
   "id": "2090e7a2",
   "metadata": {},
   "source": [
    "## Asset transfer transactions and nodes"
   ]
  },
  {
   "cell_type": "markdown",
   "id": "6117e393",
   "metadata": {},
   "source": [
    "#### Preparation of data"
   ]
  },
  {
   "cell_type": "markdown",
   "id": "424d624b",
   "metadata": {},
   "source": [
    "Select all necessary information from all transactions"
   ]
  },
  {
   "cell_type": "code",
   "execution_count": null,
   "id": "ef86c74c",
   "metadata": {},
   "outputs": [],
   "source": [
    "dfAssetTransferTx = dfTxn.filter(dfTxn.typeenum == 4) \\\n",
    "                            .select(dfTxn.txid, \\\n",
    "                                    dfTxn.round, \\\n",
    "                                    dfTxn.intra, \\\n",
    "                                    dfTxn.txn_fee, \\\n",
    "                                    dfTxn.txn_snd, \\\n",
    "                                    dfTxn.txn_arcv, \\\n",
    "                                    dfTxn.txn_aamt, \\\n",
    "                                    dfTxn.txn_asnd, \\\n",
    "                                    dfTxn.asset,\n",
    "                                    dfTxn.txn_xaid)"
   ]
  },
  {
   "cell_type": "markdown",
   "id": "8cfbb8e9",
   "metadata": {},
   "source": [
    "Add another field indicating whether it was an opt-in, transfer or revoking transaction. Can be distinguished the following way:\n",
    "- opt-in: if snd and arcv are the same\n",
    "- revoke: if the field asnd is filled in\n",
    "- transfer: if none of the above"
   ]
  },
  {
   "cell_type": "code",
   "execution_count": null,
   "id": "ce721ed6",
   "metadata": {},
   "outputs": [],
   "source": [
    "from pyspark.sql.functions import when\n",
    "\n",
    "dfAssetTransferTx = dfAssetTransferTx.withColumn('transferType', \\\n",
    "                           when(fn.col(\"txn_asnd\").isNotNull(), \"revoke\") \\\n",
    "                           .when(fn.col(\"txn_snd\") == fn.col(\"txn_arcv\"), \"opt-in\")\n",
    "                           .otherwise(\"transfer\"))"
   ]
  },
  {
   "cell_type": "markdown",
   "id": "f73e9c53",
   "metadata": {},
   "source": [
    "#### Create dataframes and write data to Neo4j"
   ]
  },
  {
   "cell_type": "markdown",
   "id": "68ca4123",
   "metadata": {},
   "source": [
    "Select all assets id's from the dfAssetTransferTx"
   ]
  },
  {
   "cell_type": "code",
   "execution_count": null,
   "id": "ced7d6f7",
   "metadata": {},
   "outputs": [],
   "source": [
    "dfAssets = dfAssetTransferTx.select(dfAssetTransferTx.txn_xaid.alias(\"asset\")).distinct()"
   ]
  },
  {
   "cell_type": "markdown",
   "id": "38dbd179",
   "metadata": {},
   "source": [
    "Write all assets as nodes to Neo4j. Should actually not add any new nodes to Neo4j as there are already the asset conf transactions"
   ]
  },
  {
   "cell_type": "code",
   "execution_count": null,
   "id": "a309ca46",
   "metadata": {},
   "outputs": [],
   "source": [
    "dfAssets.write.format(\"org.neo4j.spark.DataSource\") \\\n",
    "  .mode(\"Overwrite\") \\\n",
    "  .option(\"url\", \"bolt://172.23.149.212:7687\") \\\n",
    "  .option(\"labels\", \":Asset\") \\\n",
    "  .option(\"node.keys\", \"asset\") \\\n",
    "  .save()"
   ]
  },
  {
   "cell_type": "markdown",
   "id": "060e7042",
   "metadata": {},
   "source": [
    "Create the accounts dataframe containing the asset sender and the asset receiver"
   ]
  },
  {
   "cell_type": "code",
   "execution_count": null,
   "id": "17d3131d",
   "metadata": {},
   "outputs": [],
   "source": [
    "dfTxnSender = dfAssetTransferTx.select(dfAssetTransferTx.txn_snd.alias(\"account\"))\n",
    "dfTxnReceiver = dfAssetTransferTx.select(dfAssetTransferTx.txn_arcv.alias(\"account\"))\n",
    "dfAssetAccounts = dfTxnSender.union(dfTxnReceiver).distinct()"
   ]
  },
  {
   "cell_type": "markdown",
   "id": "fb0c9976",
   "metadata": {},
   "source": [
    "Write all accounts to Neo4j"
   ]
  },
  {
   "cell_type": "code",
   "execution_count": null,
   "id": "e7a91829",
   "metadata": {},
   "outputs": [],
   "source": [
    "dfAssetAccounts.write.format(\"org.neo4j.spark.DataSource\") \\\n",
    "  .mode(\"Overwrite\") \\\n",
    "  .option(\"url\", \"bolt://172.23.149.212:7687\") \\\n",
    "  .option(\"labels\", \":Account\") \\\n",
    "  .option(\"node.keys\", \"account\") \\\n",
    "  .save()"
   ]
  },
  {
   "cell_type": "markdown",
   "id": "1423eaad",
   "metadata": {},
   "source": [
    "Write all asset transactions between the accounts to Neo4j"
   ]
  },
  {
   "cell_type": "code",
   "execution_count": null,
   "id": "db1788e9",
   "metadata": {},
   "outputs": [],
   "source": [
    "dfAssetTransferTx.write.format(\"org.neo4j.spark.DataSource\") \\\n",
    "  .option(\"url\", \"bolt://172.23.149.212:7687\") \\\n",
    "  .mode(\"Append\") \\\n",
    "  .option(\"relationship\", \"ASSET_TRANSFER\") \\\n",
    "  .option(\"relationship.save.strategy\", \"keys\") \\\n",
    "  .option(\"relationship.source.labels\", \":Account\") \\\n",
    "  .option(\"relationship.source.save.mode\", \"Overwrite\") \\\n",
    "  .option(\"relationship.source.node.keys\", \"txn_snd:account\") \\\n",
    "  .option(\"relationship.target.labels\", \":Account\") \\\n",
    "  .option(\"relationship.target.save.mode\", \"Overwrite\") \\\n",
    "  .option(\"relationship.target.node.keys\", \"txn_arcv:account\") \\\n",
    "  .option(\"relationship.properties\", \"txn_aamt:amount, txn_fee:fee, round:blockNumber, intra:intraBlockTxNumber, txid:txId, txn_xaid:assetId, txn_asnd:assetSenderInRevokingTx, transferType\") \\\n",
    "  .save()"
   ]
  },
  {
   "cell_type": "markdown",
   "id": "7b6719fc",
   "metadata": {},
   "source": [
    "## Asset freeze transactions and nodes"
   ]
  },
  {
   "cell_type": "markdown",
   "id": "a9a720f0",
   "metadata": {},
   "source": [
    "The faid is the asset id being frozen. fadd is the address of the account whose asset is being frozen or unfrozen"
   ]
  },
  {
   "cell_type": "markdown",
   "id": "4811855d",
   "metadata": {},
   "source": [
    "#### Preparation of data"
   ]
  },
  {
   "cell_type": "markdown",
   "id": "d4f84a9b",
   "metadata": {},
   "source": [
    "Select all necessary information from all transactions"
   ]
  },
  {
   "cell_type": "code",
   "execution_count": null,
   "id": "bb334ef5",
   "metadata": {},
   "outputs": [],
   "source": [
    "dfAssetFreezeTx = dfTxn.filter(dfTxn.typeenum == 5) \\\n",
    "                        .select(dfTxn.txid, \\\n",
    "                                dfTxn.round, \\\n",
    "                                dfTxn.intra, \\\n",
    "                                dfTxn.txn_fee, \\\n",
    "                                dfTxn.txn_snd, \\\n",
    "                                dfTxn.txn_afrz, \\\n",
    "                                dfTxn.txn_fadd, \\\n",
    "                                dfTxn.txn_faid, \\\n",
    "                                dfTxn.asset)"
   ]
  },
  {
   "cell_type": "markdown",
   "id": "bb3c5c66",
   "metadata": {},
   "source": [
    "Add another field indicating whether it was a freeze or unfreeze transaction. Can be distinguished the following way:\n",
    "- afrz = true, means that the asset was freezed\n",
    "- afrz = false, means that the asset was unfreezed"
   ]
  },
  {
   "cell_type": "code",
   "execution_count": null,
   "id": "255ac7b2",
   "metadata": {},
   "outputs": [],
   "source": [
    "from pyspark.sql.functions import when\n",
    "\n",
    "dfAssetFreezeTx = dfAssetFreezeTx.withColumn('freezeType', \\\n",
    "                           when(fn.col(\"txn_afrz\") == \"true\", \"freeze\") \\\n",
    "                           .when(fn.col(\"txn_afrz\") == \"false\", \"unfreeze\"))"
   ]
  },
  {
   "cell_type": "markdown",
   "id": "717e3d63",
   "metadata": {},
   "source": [
    "#### Create dataframes and write data to Neo4j"
   ]
  },
  {
   "cell_type": "markdown",
   "id": "2102d034",
   "metadata": {},
   "source": [
    "Select all assets id's from the dfAssetTransferTx"
   ]
  },
  {
   "cell_type": "code",
   "execution_count": null,
   "id": "a584e418",
   "metadata": {},
   "outputs": [],
   "source": [
    "dfAssetsFreeze = dfAssetFreezeTx.select(dfAssetFreezeTx.asset.alias(\"asset\")).distinct()"
   ]
  },
  {
   "cell_type": "markdown",
   "id": "eae2104a",
   "metadata": {},
   "source": [
    "Write all assets as nodes to Neo4j. Should actually not add any new nodes to Neo4j as there are already the asset conf transactions"
   ]
  },
  {
   "cell_type": "code",
   "execution_count": null,
   "id": "068bf656",
   "metadata": {},
   "outputs": [],
   "source": [
    "dfAssetsFreeze.write.format(\"org.neo4j.spark.DataSource\") \\\n",
    "  .mode(\"Overwrite\") \\\n",
    "  .option(\"url\", \"bolt://172.23.149.212:7687\") \\\n",
    "  .option(\"labels\", \":Asset\") \\\n",
    "  .option(\"node.keys\", \"asset\") \\\n",
    "  .save()"
   ]
  },
  {
   "cell_type": "markdown",
   "id": "783d3795",
   "metadata": {},
   "source": [
    "Create the accounts dataframe containing the asset sender and the asset receiver"
   ]
  },
  {
   "cell_type": "code",
   "execution_count": null,
   "id": "676f056f",
   "metadata": {},
   "outputs": [],
   "source": [
    "dfAssetFreezeAccounts = dfAssetFreezeTx.select(dfAssetFreezeTx.txn_snd.alias(\"account\")).distinct()"
   ]
  },
  {
   "cell_type": "markdown",
   "id": "10d0c49d",
   "metadata": {},
   "source": [
    "Write all accounts to Neo4j"
   ]
  },
  {
   "cell_type": "code",
   "execution_count": null,
   "id": "c4a15fb1",
   "metadata": {},
   "outputs": [],
   "source": [
    "dfAssetFreezeAccounts.write.format(\"org.neo4j.spark.DataSource\") \\\n",
    "  .mode(\"Overwrite\") \\\n",
    "  .option(\"url\", \"bolt://172.23.149.212:7687\") \\\n",
    "  .option(\"labels\", \":Account\") \\\n",
    "  .option(\"node.keys\", \"account\") \\\n",
    "  .save()"
   ]
  },
  {
   "cell_type": "markdown",
   "id": "aa568862",
   "metadata": {},
   "source": [
    "Write all freeze transactions between the accounts to Neo4j"
   ]
  },
  {
   "cell_type": "code",
   "execution_count": null,
   "id": "486bb959",
   "metadata": {},
   "outputs": [],
   "source": [
    "dfAssetFreezeTx.write.format(\"org.neo4j.spark.DataSource\") \\\n",
    "  .option(\"url\", \"bolt://172.23.149.212:7687\") \\\n",
    "  .mode(\"Append\") \\\n",
    "  .option(\"relationship\", \"ASSET_FREEZE\") \\\n",
    "  .option(\"relationship.save.strategy\", \"keys\") \\\n",
    "  .option(\"relationship.source.labels\", \":Account\") \\\n",
    "  .option(\"relationship.source.save.mode\", \"Overwrite\") \\\n",
    "  .option(\"relationship.source.node.keys\", \"txn_snd:account\") \\\n",
    "  .option(\"relationship.target.labels\", \":Asset\") \\\n",
    "  .option(\"relationship.target.save.mode\", \"Overwrite\") \\\n",
    "  .option(\"relationship.target.node.keys\", \"asset:asset\") \\\n",
    "  .option(\"relationship.properties\", \"txn_fee:fee, round:blockNumber, intra:intraBlockTxNumber, txid:txId, txn_fadd:frozenAssetAccountHolder, txn_faid:assetIdBeingFrozen, freezeType:freezeType\") \\\n",
    "  .save()"
   ]
  },
  {
   "cell_type": "markdown",
   "id": "9e70ff39",
   "metadata": {},
   "source": [
    "## Application transactions and nodes"
   ]
  },
  {
   "cell_type": "markdown",
   "id": "744b76d9",
   "metadata": {},
   "source": [
    "#### Preparation of data"
   ]
  },
  {
   "cell_type": "markdown",
   "id": "9662db78",
   "metadata": {},
   "source": [
    "The apid is the id of the application. An Application Call Transaction is submitted to the network with an AppId and an OnComplete method. The AppId specifies which App to call and the OnComplete method is used in the contract to determine what branch of logic to execute.\n",
    "Application Call transactions may include other fields needed by the logic such as:\n",
    "- ApplicationArgs - To pass arbitrary arguments to an application (or in the future to call an ABI method)\n",
    "- Accounts - To pass accounts that may require some balance checking or opt-in status\n",
    "- ForeignApps - To pass apps and allow state access to an external application (or in the future to call an ABI method)\n",
    "- ForeignAssets - To pass ASAs for parameter checking\n",
    "\n",
    "We distinguish the following transactions:\n",
    "- Create: When an application is to be created, the OnComplete method is set to NoOp, no AppId is set, and the Approval/Clear programs and Schema are passed.\n",
    "- Update: An Application Update transaction may be submitted and approved assuming the logic of the Approval program allows it. This is done by specifying the AppId to update and passing the new logic for Approval and Clear programs.\n",
    "- Delete: An application may be deleted as long as the logic in the Approval Program allows for it.\n",
    "- Opt-In: An Application Opt-In transaction must be submitted by an account in order for the local state for that account to be used. If no local state is required, this transaction is not necessary for a given account. \n",
    "- Close-Out: An Application Close Out transaction is used when an account wants to opt out of a contract gracefully and remove its local state from its balance record. This transaction may fail according to the logic in the Approval program.\n",
    "- Clear-State: An Application Clear State transaction is used to force removal of the local state from the balance record of the sender. Given a well formed transaction this method will always succeed.\n",
    "- NoOp: Regular call. Application NoOp Transactions make up a majority of the Application Call methods in practice. The logic in a smart contract will often branch to appropriate logic given the contents of the ApplicationArgs array passed."
   ]
  },
  {
   "cell_type": "markdown",
   "id": "d157a844",
   "metadata": {},
   "source": [
    "Select all necessary information from all transactions"
   ]
  },
  {
   "cell_type": "code",
   "execution_count": null,
   "id": "6b5bcc39",
   "metadata": {},
   "outputs": [],
   "source": [
    "dfApplicationCallTx = dfTxn.filter(dfTxn.typeenum == 6) \\\n",
    "                        .select(dfTxn.txid, \\\n",
    "                                dfTxn.round, \\\n",
    "                                dfTxn.intra, \\\n",
    "                                dfTxn.txn_fee, \\\n",
    "                                dfTxn.txn_snd, \\\n",
    "                                dfTxn.txn_apid, \\\n",
    "                                dfTxn.txn_apap, \\\n",
    "                                dfTxn.txn_apgs, \\\n",
    "                                dfTxn.txn_apls, \\\n",
    "                                dfTxn.txn_apsu, \\\n",
    "                                dfTxn.txn_apan, \\\n",
    "                                dfTxn.txn_apaa, \\\n",
    "                                dfTxn.txn_apas, \\\n",
    "                                dfTxn.txn_apat, \\\n",
    "                                dfTxn.txn_apfa, \\\n",
    "                                dfTxn.txn_apep, \\\n",
    "                                dfTxn.asset, \\\n",
    "                                dfTxn.txn_note)"
   ]
  },
  {
   "cell_type": "markdown",
   "id": "9d94619b",
   "metadata": {},
   "source": [
    "Add another field indicating whether it was a freeze or unfreeze transaction. \n",
    "We have the following fields:\n",
    "- apap: Approval program that is executed for every transaction.\n",
    "- apsu: Clear program that is executed when on-completion is set to true.\n",
    "- apan: OnComplete / Operation which should be performed. Defines what additional operation should be performed in the tx.\n",
    "- apid: The id of the application being called.\n",
    "- apaa: Transaction specific application arguments.\n",
    "- apat: List of accounts in addtion to the sender.\n",
    "- apas: List of ForeignAssets whose AssetParams may be accessed by approval- or clear program.\n",
    "- apfa: List of ForeignApplications whose global states may be accessed by approval- or clear program.\n",
    "\n",
    "\n",
    "Transactions be distinguished the following way:\n",
    "- create: apap and apsu are set and apan is set to 0 -> therefore omitted\n",
    "- update: apid is set to an app and apan = 4\n",
    "- delete: apid is set to an app and apan = 5\n",
    "- opt-in: apid is set to an app and apan = 1\n",
    "- close-out: apid is set to an app and apan = 2\n",
    "- clear-state: apid is set to an app and apan = 3\n",
    "- noOp: apid is set to an app, apaa contains to the string docs and the integer 1, apat contains address, apas contains the ASA used, apfa contains other application id, apan is set to 0 -> therefore omitted"
   ]
  },
  {
   "cell_type": "code",
   "execution_count": null,
   "id": "f8e382fd",
   "metadata": {},
   "outputs": [],
   "source": [
    "from pyspark.sql.functions import when\n",
    "\n",
    "dfApplicationCallTx = dfApplicationCallTx.withColumn('applicationCallType', \\\n",
    "                           when(fn.col(\"txn_apan\").isNull() & fn.col(\"txn_apid\").isNull() & fn.col(\"txn_apap\").isNotNull() &  fn.col(\"txn_apsu\").isNotNull(),\"create\") \\\n",
    "                           .when(fn.col(\"txn_apan\") == 4, \"update\")\n",
    "                            .when(fn.col(\"txn_apan\") == 5, \"delete\")\n",
    "                            .when(fn.col(\"txn_apan\") == 1, \"opt-in\")\n",
    "                            .when(fn.col(\"txn_apan\") == 2, \"close-out\")\n",
    "                            .when(fn.col(\"txn_apan\") == 3, \"clear-state\")\n",
    "                            .otherwise(\"noOp\"))"
   ]
  },
  {
   "cell_type": "markdown",
   "id": "0d5a1c03",
   "metadata": {},
   "source": [
    "#### Create dataframes and write data to Neo4j"
   ]
  },
  {
   "cell_type": "markdown",
   "id": "29dc5dde",
   "metadata": {},
   "source": [
    "Select all application id's from the dfApplicationCallTx."
   ]
  },
  {
   "cell_type": "code",
   "execution_count": null,
   "id": "8559aa9f",
   "metadata": {},
   "outputs": [],
   "source": [
    "dfApplications = dfApplicationCallTx.select(dfApplicationCallTx.asset.alias(\"application\")).distinct()"
   ]
  },
  {
   "cell_type": "markdown",
   "id": "f4ead25b",
   "metadata": {},
   "source": [
    "Write all applications as nodes to Neo4j."
   ]
  },
  {
   "cell_type": "code",
   "execution_count": null,
   "id": "c26ef4a6",
   "metadata": {},
   "outputs": [],
   "source": [
    "dfApplications.write.format(\"org.neo4j.spark.DataSource\") \\\n",
    "  .mode(\"Overwrite\") \\\n",
    "  .option(\"url\", \"bolt://172.23.149.212:7687\") \\\n",
    "  .option(\"labels\", \":Application\") \\\n",
    "  .option(\"node.keys\", \"application\") \\\n",
    "  .save()"
   ]
  },
  {
   "cell_type": "markdown",
   "id": "be972913",
   "metadata": {},
   "source": [
    "Create the accounts dataframe containing the application call sender."
   ]
  },
  {
   "cell_type": "code",
   "execution_count": null,
   "id": "d5884af8",
   "metadata": {},
   "outputs": [],
   "source": [
    "dfApplicationAccounts = dfApplicationCallTx.select(dfApplicationCallTx.txn_snd.alias(\"account\")).distinct()"
   ]
  },
  {
   "cell_type": "markdown",
   "id": "4f55862a",
   "metadata": {},
   "source": [
    "Write all accounts to Neo4j."
   ]
  },
  {
   "cell_type": "code",
   "execution_count": null,
   "id": "83a9cee3",
   "metadata": {},
   "outputs": [],
   "source": [
    "dfApplicationAccounts.write.format(\"org.neo4j.spark.DataSource\") \\\n",
    "  .mode(\"Overwrite\") \\\n",
    "  .option(\"url\", \"bolt://172.23.149.212:7687\") \\\n",
    "  .option(\"labels\", \":Account\") \\\n",
    "  .option(\"node.keys\", \"account\") \\\n",
    "  .save()"
   ]
  },
  {
   "cell_type": "markdown",
   "id": "458b6a4d",
   "metadata": {},
   "source": [
    "Write all application call transactions to Neo4j."
   ]
  },
  {
   "cell_type": "code",
   "execution_count": null,
   "id": "c58d337b",
   "metadata": {},
   "outputs": [],
   "source": [
    "dfApplicationCallTx.write.format(\"org.neo4j.spark.DataSource\") \\\n",
    "  .option(\"url\", \"bolt://172.23.149.212:7687\") \\\n",
    "  .mode(\"Append\") \\\n",
    "  .option(\"relationship\", \"APPLICATION_CALL\") \\\n",
    "  .option(\"relationship.save.strategy\", \"keys\") \\\n",
    "  .option(\"relationship.source.labels\", \":Account\") \\\n",
    "  .option(\"relationship.source.save.mode\", \"Overwrite\") \\\n",
    "  .option(\"relationship.source.node.keys\", \"txn_snd:account\") \\\n",
    "  .option(\"relationship.target.labels\", \":Application\") \\\n",
    "  .option(\"relationship.target.save.mode\", \"Overwrite\") \\\n",
    "  .option(\"relationship.target.node.keys\", \"asset:application\") \\\n",
    "  .option(\"relationship.properties\", \"txn_fee:fee, round:blockNumber, intra:intraBlockTxNumber, txid:txId, applicationCallType, txn_apan:applicationCallTypeEnum, txn_apid:applicationId, txn_apap:approvalProgram, txn_apsu:clearProgram, txn_apaa:applicationCallArguments, txn_apat:accountsList, txn_apfa:applicationsList, txn_apas:assetsList\") \\\n",
    "  .save()"
   ]
  },
  {
   "cell_type": "code",
   "execution_count": null,
   "id": "fa949e36",
   "metadata": {},
   "outputs": [],
   "source": []
  }
 ],
 "metadata": {
  "kernelspec": {
   "display_name": "Python 3 (ipykernel)",
   "language": "python",
   "name": "python3"
  },
  "language_info": {
   "codemirror_mode": {
    "name": "ipython",
    "version": 3
   },
   "file_extension": ".py",
   "mimetype": "text/x-python",
   "name": "python",
   "nbconvert_exporter": "python",
   "pygments_lexer": "ipython3",
   "version": "3.8.10"
  }
 },
 "nbformat": 4,
 "nbformat_minor": 5
}
