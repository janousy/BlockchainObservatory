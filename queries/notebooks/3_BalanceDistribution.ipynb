{
 "cells": [
  {
   "cell_type": "markdown",
   "id": "22d858a3",
   "metadata": {},
   "source": [
    "# Set Up"
   ]
  },
  {
   "cell_type": "markdown",
   "id": "5cb133f8-8826-4380-a485-adc43c6368de",
   "metadata": {},
   "source": [
    "### import, config, sparksession, table reading"
   ]
  },
  {
   "cell_type": "code",
   "execution_count": 1,
   "id": "0e3bed6e-30ae-43ed-9721-1cc001489ace",
   "metadata": {},
   "outputs": [],
   "source": [
    "import matplotlib.pyplot as plt\n",
    "import numpy as np\n",
    "\n",
    "import pyspark\n",
    "from pyspark.sql import SparkSession, Row\n",
    "from pyspark.sql.functions import col, hex, base64, avg, collect_list, concat, lit, mean\n",
    "from pyspark.sql.types import StructType,StructField, StringType, IntegerType, LongType\n",
    "import pyspark.sql.functions as F \n"
   ]
  },
  {
   "cell_type": "code",
   "execution_count": 2,
   "id": "62ea7998-55cf-4df6-a020-02b15c0d4028",
   "metadata": {},
   "outputs": [],
   "source": [
    "#config for our sparksession\n",
    "config = pyspark.SparkConf().setAll([\n",
    "    ('spark.executor.memory', '12g'), \n",
    "    ('spark.executor.cores', '2'), \n",
    "    ('spark.cores.max', '4'),\n",
    "    ('spark.driver.memory','2g'),\n",
    "    ('spark.executor.instances', '1'),\n",
    "    ('spark.dynamicAllocation.enabled', 'true'),\n",
    "    ('spark.dynamicAllocation.shuffleTracking.enabled', 'true'),\n",
    "    ('spark.dynamicAllocation.executorIdleTimeout', '60s'),\n",
    "    ('spark.dynamicAllocation.minExecutors', '1'),\n",
    "    ('spark.dynamicAllocation.maxExecutors', '2'),\n",
    "    ('spark.dynamicAllocation.initialExecutors', '1'),\n",
    "    ('spark.dynamicAllocation.executorAllocationRatio', '1'),\n",
    "    ('spark.worker.cleanup.enabled', 'true'),\n",
    "    ('spark.worker.cleanup.interval', '60'),\n",
    "    ('spark.shuffle.service.db.enabled', 'true'),\n",
    "    ('spark.worker.cleanup.appDataTtl', '60'),\n",
    "    ('spark.jars.packages', 'org.mongodb.spark:mongo-spark-connector:10.0.2')\n",
    "])"
   ]
  },
  {
   "cell_type": "code",
   "execution_count": 3,
   "id": "d8c4764b-1aed-4b0f-84a2-99415c8b2ef6",
   "metadata": {},
   "outputs": [
    {
     "name": "stderr",
     "output_type": "stream",
     "text": [
      "22/07/18 09:22:28 WARN Utils: Your hostname, algorand-druid-and-spark resolves to a loopback address: 127.0.0.1; using 172.23.149.212 instead (on interface ens3)\n",
      "22/07/18 09:22:28 WARN Utils: Set SPARK_LOCAL_IP if you need to bind to another address\n",
      "WARNING: An illegal reflective access operation has occurred\n",
      "WARNING: Illegal reflective access by org.apache.spark.unsafe.Platform (file:/home/ubuntu/.local/lib/python3.8/site-packages/pyspark/jars/spark-unsafe_2.12-3.2.1.jar) to constructor java.nio.DirectByteBuffer(long,int)\n",
      "WARNING: Please consider reporting this to the maintainers of org.apache.spark.unsafe.Platform\n",
      "WARNING: Use --illegal-access=warn to enable warnings of further illegal reflective access operations\n",
      "WARNING: All illegal access operations will be denied in a future release\n"
     ]
    },
    {
     "name": "stdout",
     "output_type": "stream",
     "text": [
      ":: loading settings :: url = jar:file:/home/ubuntu/.local/lib/python3.8/site-packages/pyspark/jars/ivy-2.5.0.jar!/org/apache/ivy/core/settings/ivysettings.xml\n"
     ]
    },
    {
     "name": "stderr",
     "output_type": "stream",
     "text": [
      "Ivy Default Cache set to: /home/ubuntu/.ivy2/cache\n",
      "The jars for the packages stored in: /home/ubuntu/.ivy2/jars\n",
      "org.mongodb.spark#mongo-spark-connector added as a dependency\n",
      ":: resolving dependencies :: org.apache.spark#spark-submit-parent-9de51ba0-6174-4ce2-8654-9b755247ec90;1.0\n",
      "\tconfs: [default]\n",
      "\tfound org.mongodb.spark#mongo-spark-connector;10.0.2 in central\n",
      "\tfound org.mongodb#mongodb-driver-sync;4.5.1 in central\n",
      "\t[4.5.1] org.mongodb#mongodb-driver-sync;[4.5.0,4.5.99)\n",
      "\tfound org.mongodb#bson;4.5.1 in central\n",
      "\tfound org.mongodb#mongodb-driver-core;4.5.1 in central\n",
      ":: resolution report :: resolve 2189ms :: artifacts dl 8ms\n",
      "\t:: modules in use:\n",
      "\torg.mongodb#bson;4.5.1 from central in [default]\n",
      "\torg.mongodb#mongodb-driver-core;4.5.1 from central in [default]\n",
      "\torg.mongodb#mongodb-driver-sync;4.5.1 from central in [default]\n",
      "\torg.mongodb.spark#mongo-spark-connector;10.0.2 from central in [default]\n",
      "\t---------------------------------------------------------------------\n",
      "\t|                  |            modules            ||   artifacts   |\n",
      "\t|       conf       | number| search|dwnlded|evicted|| number|dwnlded|\n",
      "\t---------------------------------------------------------------------\n",
      "\t|      default     |   4   |   1   |   0   |   0   ||   4   |   0   |\n",
      "\t---------------------------------------------------------------------\n",
      ":: retrieving :: org.apache.spark#spark-submit-parent-9de51ba0-6174-4ce2-8654-9b755247ec90\n",
      "\tconfs: [default]\n",
      "\t0 artifacts copied, 4 already retrieved (0kB/9ms)\n",
      "22/07/18 09:22:31 WARN NativeCodeLoader: Unable to load native-hadoop library for your platform... using builtin-java classes where applicable\n",
      "Using Spark's default log4j profile: org/apache/spark/log4j-defaults.properties\n",
      "Setting default log level to \"WARN\".\n",
      "To adjust logging level use sc.setLogLevel(newLevel). For SparkR, use setLogLevel(newLevel).\n",
      "22/07/18 09:22:33 WARN Utils: Service 'SparkUI' could not bind on port 4040. Attempting port 4041.\n",
      "22/07/18 09:22:33 WARN Utils: Service 'SparkUI' could not bind on port 4041. Attempting port 4042.\n",
      "22/07/18 09:22:33 WARN Utils: Service 'SparkUI' could not bind on port 4042. Attempting port 4043.\n",
      "22/07/18 09:22:34 WARN ExecutorAllocationManager: Dynamic allocation without a shuffle service is an experimental feature.\n"
     ]
    }
   ],
   "source": [
    "#create sparksession\n",
    "#when copying change appName\n",
    "spark = SparkSession \\\n",
    "    .builder \\\n",
    "    .config(conf=config) \\\n",
    "    .appName(\"3_BalanceDistribution\") \\\n",
    "    .master(\"spark://172.23.149.212:7077\") \\\n",
    "    .getOrCreate()"
   ]
  },
  {
   "cell_type": "code",
   "execution_count": 4,
   "id": "5505b028-d61b-48b0-80f8-0157b8d388f2",
   "metadata": {},
   "outputs": [],
   "source": [
    "# account table to determine which accounts have the highest balances\n",
    "dfAccounts = spark.read.format(\"mongodb\") \\\n",
    "    .option('spark.mongodb.connection.uri', 'mongodb://172.23.149.212:27017') \\\n",
    "    .option('spark.mongodb.database', 'algorand') \\\n",
    "    .option('spark.mongodb.collection', 'account') \\\n",
    "    .option('park.mongodb.read.readPreference.name', 'primaryPreferred') \\\n",
    "    .option('spark.mongodb.change.stream.publish.full.document.only','true') \\\n",
    "    .option(\"forceDeleteTempCheckpointLocation\", \"true\") \\\n",
    "    .load()\n"
   ]
  },
  {
   "cell_type": "markdown",
   "id": "897b0a81-b438-426e-a520-2ac3eb48cb79",
   "metadata": {},
   "source": [
    "# Organizing Table"
   ]
  },
  {
   "cell_type": "code",
   "execution_count": 5,
   "id": "b5959b61-4836-43fe-afa4-6521e738f6fd",
   "metadata": {},
   "outputs": [
    {
     "name": "stderr",
     "output_type": "stream",
     "text": [
      "                                                                                \r"
     ]
    }
   ],
   "source": [
    "# drop all unneccessary columns\n",
    "dfAccounts = dfAccounts.drop(\"_id\",\"rewardsbase\", \"account_data\", \"rewards_total\", \"deleted\", \"closed_at\", \"keytype\")\n",
    "\n",
    "# calculate hom many algos are on the chain, and print the amount of algos on the chain\n",
    "    \n",
    "totalAlgos = dfAccounts.agg(F.sum(\"microalgos\")).collect()[0][0]\n",
    "\n",
    "\n",
    "#add column and calculate the proportion of the account to all algos, proportion is in %\n",
    "dfAccounts = dfAccounts.withColumn(\"proportion\", dfAccounts.microalgos/totalAlgos*100)\n",
    "\n",
    "totalAccounts = dfAccounts.count()\n"
   ]
  },
  {
   "cell_type": "markdown",
   "id": "7bc4985b-a5a5-48ca-8847-9fbfb54ff630",
   "metadata": {},
   "source": [
    "### Write the Result in a Gold Table"
   ]
  },
  {
   "cell_type": "code",
   "execution_count": 6,
   "id": "8e6e7b5b-b51d-4f06-959c-17a6bdf8784b",
   "metadata": {},
   "outputs": [
    {
     "name": "stderr",
     "output_type": "stream",
     "text": [
      "                                                                                \r"
     ]
    }
   ],
   "source": [
    "newestRound = dfAccounts.agg(F.max(\"created_at\")).collect()[0][0]"
   ]
  },
  {
   "cell_type": "code",
   "execution_count": null,
   "id": "69977c18-af16-4328-9897-4a11d4170769",
   "metadata": {},
   "outputs": [
    {
     "name": "stderr",
     "output_type": "stream",
     "text": [
      "22/07/18 09:25:46 WARN CaseInsensitiveStringMap: Converting duplicated key forcedeletetempcheckpointlocation into CaseInsensitiveStringMap.\n",
      "[Stage 9:>                                                          (0 + 4) / 4]\r"
     ]
    }
   ],
   "source": [
    "#write amount of Algos in gold table\n",
    "#first put value in a df\n",
    "result = spark.createDataFrame(\n",
    "    [\n",
    "        (totalAlgos, totalAlgos/1000000, totalAccounts, newestRound)  # create your data here, be consistent in the types.\n",
    "        \n",
    "    ],\n",
    "    [\"TotalMicroAlgos\", \"TotalAlgos\", \"TotalAccounts\", \"CreationRound\"]  # add your column names here\n",
    ")\n",
    "\n",
    "result.write.format(\"mongodb\") \\\n",
    "\t.option('spark.mongodb.connection.uri', 'mongodb://172.23.149.212:27017') \\\n",
    "  \t.mode(\"append\") \\\n",
    "    .option('spark.mongodb.database', 'algorand_gold') \\\n",
    "  \t.option('spark.mongodb.collection', 'TotalAlgos_3') \\\n",
    "  \t.option(\"forceDeleteTempCheckpointLocation\", \"true\") \\\n",
    "  \t.save()\n"
   ]
  },
  {
   "cell_type": "markdown",
   "id": "be123c4f",
   "metadata": {},
   "source": [
    "In this table all addresses in the Algroand network are represented. The addresses are sorted by their account balance, starting with the largest one. In the last column their account balance is counterposed to the total amounts of Algos in the network. Therefore a centralisation of assets could be distinguished with this table."
   ]
  },
  {
   "cell_type": "markdown",
   "id": "66bf871b-f1dd-4b91-9500-59d086669766",
   "metadata": {},
   "source": [
    "# Plotting Balance Distribution"
   ]
  },
  {
   "cell_type": "markdown",
   "id": "d9bc1268-f8fa-4816-8f8e-d053db2ae1b2",
   "metadata": {},
   "source": [
    "### Preparation"
   ]
  },
  {
   "cell_type": "code",
   "execution_count": null,
   "id": "06f280d7-844c-43ca-8365-68f329dc798f",
   "metadata": {},
   "outputs": [],
   "source": [
    "#everything with 0\n",
    "silverDF = dfAccounts.select(\"addr\", \"microalgos\")\n",
    "#write it back for metabase dashboard\n",
    "silverDF.write.format(\"mongodb\") \\\n",
    "\t.option('spark.mongodb.connection.uri', 'mongodb://172.23.149.212:27017') \\\n",
    "  \t.mode(\"overwrite\") \\\n",
    "    .option('spark.mongodb.database', 'algorand_silver') \\\n",
    "  \t.option('spark.mongodb.collection', 'Distribution_AccountBalances_incl_0_3') \\\n",
    "  \t.option(\"forceDeleteTempCheckpointLocation\", \"true\") \\\n",
    "  \t.save()\n",
    "\n",
    "#preparation for graph\n",
    "dataWith0Accounts = dfAccounts.select(\"microalgos\")\n",
    "dataWith0Accounts = dataWith0Accounts.collect()\n",
    "\n",
    "#convert row[\"data\"] to only data\n",
    "microalgos0 = [row[0] for (row) in dataWith0Accounts]\n",
    "mean_alg0 = dfAccounts.agg(F.mean(\"microalgos\")).collect()[0][0]"
   ]
  },
  {
   "cell_type": "code",
   "execution_count": null,
   "id": "a28b80ab-ffd4-47a3-8fa3-993f89af4ea2",
   "metadata": {},
   "outputs": [],
   "source": [
    "#histogram with all accounts\n",
    "#how many bars in the histogram should be plotted\n",
    "#histogram\n",
    "bin_size = 50\n",
    "#plus one so no 0 value is created\n",
    "mybins = np.logspace(0, np.log10(max(microalgos0)), bin_size )\n",
    "mybins = np.insert(mybins, 0, 0)\n",
    "\n",
    "plt.figure()\n",
    "plt.hist(microalgos0, bins = mybins)\n",
    "plt.rcParams[\"figure.autolayout\"] = True\n",
    "plt.xscale('log')\n",
    "plt.yscale('log')\n",
    "plt.xlabel(\"Microalgos\")\n",
    "plt.ylabel(\"Number of Accounts\")\n",
    "plt.title(\"Distribution of Account Balances\", loc ='center', pad = None)\n",
    "plt.axvline(mean_alg0, color='k', linestyle='dashed', linewidth=1)\n",
    "plt.savefig('/home/ubuntu/apps/figures/3_BalanceDistribution/Distribution_AccountBalances_incl_0.jpg', dpi= 200)\n",
    "plt.show()\n",
    "plt.close()"
   ]
  },
  {
   "cell_type": "code",
   "execution_count": null,
   "id": "b772cf54-96ad-40d8-a0a0-7deb61bc1927",
   "metadata": {},
   "outputs": [],
   "source": [
    "#cell with no 0 values\n",
    "#get rid off 0 values because they aredestroying the plot\n",
    "dfAccNoZero = dfAccounts.filter(dfAccounts.microalgos > 0)\n",
    "\n",
    "#graph\n",
    "dataWithout0Accounts = dfAccNoZero.select(\"microalgos\")\n",
    "\n",
    "#preparation for graph\n",
    "dataWithout0Accounts = dataWithout0Accounts.collect()\n",
    "\n",
    "#convert row[\"data\"] to only data\n",
    "microalgos = [row[0] for (row) in dataWithout0Accounts]\n",
    "\n",
    "#calculate the mean of all accounts with a balance > 0\n",
    "mean_alg = dfAccNoZero.agg(F.mean(\"microalgos\")).collect()[0][0]"
   ]
  },
  {
   "cell_type": "code",
   "execution_count": null,
   "id": "7de4f9c2-071c-4c01-a5d2-438a50d8a2f3",
   "metadata": {},
   "outputs": [],
   "source": [
    "#histogram with all accounts with an amount > 0\n",
    "#how many bars in the histogram should be plotted\n",
    "#histogram\n",
    "bin_size = 50\n",
    "#distribute bins log(equally) over the whole data\n",
    "mybins = np.logspace(np.log10(min(microalgos)), np.log10(max(microalgos)), bin_size )\n",
    "\n",
    "plt.figure()\n",
    "plt.hist(microalgos, bins = mybins)\n",
    "plt.rcParams[\"figure.autolayout\"] = True\n",
    "plt.xscale('log')\n",
    "plt.yscale('log')\n",
    "plt.xlabel(\"Microalgos\")\n",
    "plt.ylabel(\"Number of Accounts\")\n",
    "plt.title(\"Distribution of Account Balances > 0 \", loc ='center', pad = None)\n",
    "plt.axvline(mean_alg, color='k', linestyle='dashed', linewidth=1)\n",
    "plt.savefig('/home/ubuntu/apps/figures/3_BalanceDistribution/Distribution_AccountBalances_excl_0.jpg', dpi= 200)\n",
    "plt.show()\n",
    "plt.close()"
   ]
  },
  {
   "cell_type": "code",
   "execution_count": null,
   "id": "14b85b43-e87c-4ebd-8e17-08ea8fdb13fd",
   "metadata": {},
   "outputs": [],
   "source": [
    "# graph select only account balances, sort it from highest to lowest and take the highest 10 balances\n",
    "    whalesData = dfAccounts.select(\"addr\", \"microalgos\", \"proportion\").sort(col(\"microalgos\").desc()).head(10)\n",
    "\n",
    "    # preparation for graph\n",
    "    # convert row[\"data\"] to only data /1000000 to reach algos from microalgos\n",
    "    whalesAlgos = [row[1] / 1000000 for (row) in whalesData]\n",
    "    whalesAddresses = [row[0] for (row) in whalesData]\n",
    "    whalesProportion = [row[2] for (row) in whalesData]"
   ]
  },
  {
   "cell_type": "code",
   "execution_count": null,
   "id": "14039c43-5dfe-4dbd-af63-7cbce153cda6",
   "metadata": {},
   "outputs": [],
   "source": [
    "# save the whales, the top 10 whales are saved in a list\n",
    "    # the top 10 are plotted\n",
    "    name = \"whale \"\n",
    "    plt.figure()\n",
    "    for i in range(5):\n",
    "        plt.bar(name + str(i), whalesAlgos[i], width=0.4)\n",
    "\n",
    "    plt.rcParams[\"figure.figsize\"] = (10, 5)\n",
    "    plt.title(\"5 Biggest Whales with their Account Balances in Algos\", loc='center', pad=None)\n",
    "\n",
    "    plt.legend([whalesAddresses[0], whalesAddresses[1], whalesAddresses[2], whalesAddresses[3], whalesAddresses[4]])\n",
    "    plt.savefig('/home/ubuntu/apps/figures/3_BalanceDistribution/Distribution_whales.jpg', dpi=200)\n",
    "    plt.show()\n",
    "    plt.close()"
   ]
  },
  {
   "cell_type": "code",
   "execution_count": null,
   "id": "6427c89f-d8a5-4c7b-ad10-b74c7ab166cc",
   "metadata": {},
   "outputs": [],
   "source": [
    " # write the current whales in gold table\n",
    "    column = [\"Address\", \"Algos\", \"Proportion\"]\n",
    "    result = spark.createDataFrame(zip(whalesAddresses, whalesAlgos, whalesProportion), column)\n",
    "\n",
    "    # write it back for metabase dashboard\n",
    "    result.write.format(\"mongodb\") \\\n",
    "        .option('spark.mongodb.connection.uri', 'mongodb://172.23.149.212:27017') \\\n",
    "        .mode(\"overwrite\") \\\n",
    "        .option('spark.mongodb.database', 'algorand_gold') \\\n",
    "        .option('spark.mongodb.collection', 'Distribution_whales_3') \\\n",
    "        .option(\"forceDeleteTempCheckpointLocation\", \"true\") \\\n",
    "        .save()"
   ]
  },
  {
   "cell_type": "code",
   "execution_count": 4,
   "id": "50279100-81c5-4e57-ba8b-2f0e549f85ef",
   "metadata": {},
   "outputs": [],
   "source": [
    "spark.stop()"
   ]
  },
  {
   "cell_type": "code",
   "execution_count": null,
   "id": "b6b635c6",
   "metadata": {},
   "outputs": [],
   "source": []
  }
 ],
 "metadata": {
  "kernelspec": {
   "display_name": "Python 3 (ipykernel)",
   "language": "python",
   "name": "python3"
  },
  "language_info": {
   "codemirror_mode": {
    "name": "ipython",
    "version": 3
   },
   "file_extension": ".py",
   "mimetype": "text/x-python",
   "name": "python",
   "nbconvert_exporter": "python",
   "pygments_lexer": "ipython3",
   "version": "3.8.10"
  }
 },
 "nbformat": 4,
 "nbformat_minor": 5
}
